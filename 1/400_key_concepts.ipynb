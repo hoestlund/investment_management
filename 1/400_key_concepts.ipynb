{
 "cells": [
  {
   "cell_type": "markdown",
   "metadata": {},
   "source": [
    "# Week 4\n",
    ">The main focus of this module is on the design of optimal allocation strategies for investors endowed with long-term liability or consumption objectives, a framework suitable to most institutional investors but also to private investors. It presents the state of the art in asset-liability management (ALM) with a specific emphasis on defining the investor's objectives and constraints, formalizing the risk-return trade-off in terms of final funding ratio and minimizing the opportunity costs of short-term constraints.\n",
    "\n",
    ">We emphasize the liability-driven investing paradigm, which leads to the recognition that investment decisions should not be framed in terms of one all-encompassing reference policy portfolio, but instead in terms of two distinct reference portfolios, namely a liability-hedging portfolio and a performance-seeking portfolio."
   ]
  },
  {
   "cell_type": "markdown",
   "metadata": {},
   "source": [
    "## Dynamic Liability-Driven Investing Strategies: The Emergence Of A New Investment Paradigm For Pension Funds?\n",
    "[Publication](https://risk.edhec.edu/publications/dynamic-liability-driven-investing-strategies-emergence-new-investment-paradigm-pension)\n",
    "> The standard paradigm for pension fund investments, which used to be firmly grounded around one overarching foundational concept of the policy portfolio, is slowly but surely being replaced by a new, more modern, investment paradigm known as the dynamic liability-driven investing (DLDI) paradigm. \n",
    "This new paradigm has two main defining characteristics: \n",
    "* a focus on the management of portfolio risk relative to the liabilities, as opposed to absolute risk\n",
    "* a focus on dynamically time-varying allocation within and across the risky and the safe building blocks. "
   ]
  },
  {
   "cell_type": "markdown",
   "metadata": {},
   "source": [
    "## From Asset Management to Asset-Liability Management\n",
    "* There is a pension fund crisis due to a perfect storm during the tech bubble and GFC where assets went down in value and liabilities increased\n",
    "    * Went during the tech bubble from a surplus in the US of around \\\\$250B surplus to \\\\$250B deficit\n",
    "* In asset-liability management what matters is *asset value relative to liability value*\n",
    "    * Suplrus/Deficit is the difference between asset and liability vcalues"
   ]
  },
  {
   "cell_type": "code",
   "execution_count": null,
   "metadata": {},
   "outputs": [],
   "source": []
  }
 ],
 "metadata": {
  "kernelspec": {
   "display_name": "Python 3",
   "language": "python",
   "name": "python3"
  },
  "language_info": {
   "codemirror_mode": {
    "name": "ipython",
    "version": 3
   },
   "file_extension": ".py",
   "mimetype": "text/x-python",
   "name": "python",
   "nbconvert_exporter": "python",
   "pygments_lexer": "ipython3",
   "version": "3.8.3"
  }
 },
 "nbformat": 4,
 "nbformat_minor": 4
}
