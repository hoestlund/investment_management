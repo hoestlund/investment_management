{
 "cells": [
  {
   "cell_type": "markdown",
   "metadata": {},
   "source": [
    "# Week 3: Key Concepts\n",
    "\n",
    "* Understand when Diversification Works, and when it doesn’t\n",
    "* Analyse dynamic allocation\n",
    "* Simulating asset returns with random walks\n",
    "* Introduction to the principles of Monte Carlo Simulation – Introducing mu and sigma\n",
    "* Using Monte Carlo to test CPPI\n",
    "* Analyse the impact of different parameters (m, floor, also mu and sigma)"
   ]
  },
  {
   "cell_type": "markdown",
   "metadata": {},
   "source": [
    ">Recent market crises have highlighted the benefits of risk-controlled strategies that allow investors to benefit from downside risk protection. This module describes a wide set of risk insurance strategies, starting with basic Constant Proportion Portfolio Insurance (CPPI) strategies, and moving on to more sophisticated strategies that aim at achieving the highest possible upside potential while imposing stringent limits to portfolio drawdown.\n",
    "\n",
    ">We also provide a detailed discussion of calibration and implementation challenges, and also introduce Monte-Carlo simulations techniques, which are required for the proper backtesting of insurance strategies."
   ]
  },
  {
   "cell_type": "code",
   "execution_count": null,
   "metadata": {},
   "outputs": [],
   "source": []
  }
 ],
 "metadata": {
  "kernelspec": {
   "display_name": "Python 3",
   "language": "python",
   "name": "python3"
  },
  "language_info": {
   "codemirror_mode": {
    "name": "ipython",
    "version": 3
   },
   "file_extension": ".py",
   "mimetype": "text/x-python",
   "name": "python",
   "nbconvert_exporter": "python",
   "pygments_lexer": "ipython3",
   "version": "3.7.4"
  }
 },
 "nbformat": 4,
 "nbformat_minor": 4
}
