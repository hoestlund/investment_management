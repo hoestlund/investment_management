{
 "cells": [
  {
   "cell_type": "markdown",
   "metadata": {},
   "source": [
    "# Semi Deviation, VaR, and CVaR\n",
    "\n",
    "## Estimating CVaR\n",
    "_There are 4 standard methodologies for calculating VaR_:\n",
    "* Historical methodology (non-parameterisation)\n",
    "* Variance-Covariance (parametric Gaussian)\n",
    "* Parametric non-Gaussian\n",
    "* Cornish-Fisher (semi-parametric)\n",
    "\n",
    "### Historical Methodology\n",
    "* Based on the distribution of historical changes\n",
    "* There are no assumptions made, there is no risk of misspecification\n",
    "* However, the sole reliance on historical data makes the estimation highly dependent on the sample\n",
    "\n",
    "### Parametric Guassian Methodology\n",
    "* Approaches know as parametric approachs\n",
    "    * You come up with a specific assumption about the return distribution, then the focus is estimating the parameters of that return distribution\n",
    "* Simple to assume a Gaussian distribution, but assuming this gives a large model risk as we have fat tails\n",
    "* Example: A portfolio with a +.5% monthly expected return and 4% monthly volatility. A 95% monthly Gaussian VaR for the portfolio = -(0.5% - 1.65 x 4%) = 6.1%\n",
    "\n",
    "### Parametric non-Gaussian\n",
    "* Can be parametric but not Gaussian\n",
    "* Includes distributions, like: _Pareto, Student with a>0 degrees of freedom, Loggamma, Frechet_\n",
    "* There is a specification risk as the data might not fit the distribution chosen\n",
    "\n",
    "### Cornish-Fisher\n",
    "* Attempt at best of two world\n",
    "* No specific return distribution is assumed\n",
    "* Using Gaussian and then contains corrections in the forms of a fraction of skewness and kurtosis\n"
   ]
  }
 ],
 "metadata": {
  "kernelspec": {
   "display_name": "Python 3",
   "language": "python",
   "name": "python3"
  },
  "language_info": {
   "codemirror_mode": {
    "name": "ipython",
    "version": 3
   },
   "file_extension": ".py",
   "mimetype": "text/x-python",
   "name": "python",
   "nbconvert_exporter": "python",
   "pygments_lexer": "ipython3",
   "version": "3.7.4"
  }
 },
 "nbformat": 4,
 "nbformat_minor": 4
}
