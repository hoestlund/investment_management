{
 "cells": [
  {
   "cell_type": "markdown",
   "metadata": {},
   "source": [
    "# Liability-friendly equity portfolios\n",
    "\n",
    "* Intutive approach based on cash-flow matching focus\n",
    "    * If you can find stocks that pay high dividens you can use thses stock to pay the liabilities when they come. \n",
    "    \n",
    "* Statistical approach based on factor matching focus\n",
    "    * Look at low-volatility stocks in order to mirror the behaviour of bonds, these will be more attractive for liability hedging\n",
    "    \n",
    "* Selecting stocks with above average liability friendliness allows investors to allocate more to equity for a given risk budget\n",
    "    * This translates to improved performance unless liability friendly stocks strongly underperform the market average (not the case for S&P500 1975-2012)"
   ]
  },
  {
   "cell_type": "code",
   "execution_count": 1,
   "metadata": {},
   "outputs": [],
   "source": [
    "%load_ext autoreload\n",
    "%autoreload 2\n",
    "%matplotlib inline\n",
    "from my_modules import risk\n",
    "from my_modules import portfolio\n",
    "from my_modules import model\n",
    "\n",
    "import numpy as np\n",
    "import pandas as pd\n",
    "import seaborn as sns"
   ]
  },
  {
   "cell_type": "code",
   "execution_count": 3,
   "metadata": {},
   "outputs": [
    {
     "data": {
      "text/html": [
       "<div>\n",
       "<style scoped>\n",
       "    .dataframe tbody tr th:only-of-type {\n",
       "        vertical-align: middle;\n",
       "    }\n",
       "\n",
       "    .dataframe tbody tr th {\n",
       "        vertical-align: top;\n",
       "    }\n",
       "\n",
       "    .dataframe thead th {\n",
       "        text-align: right;\n",
       "    }\n",
       "</style>\n",
       "<table border=\"1\" class=\"dataframe\">\n",
       "  <thead>\n",
       "    <tr style=\"text-align: right;\">\n",
       "      <th></th>\n",
       "      <th>ZC</th>\n",
       "      <th>Eq</th>\n",
       "      <th>70/30</th>\n",
       "    </tr>\n",
       "  </thead>\n",
       "  <tbody>\n",
       "    <tr>\n",
       "      <th>mean</th>\n",
       "      <td>1.34</td>\n",
       "      <td>1.98</td>\n",
       "      <td>1.76</td>\n",
       "    </tr>\n",
       "    <tr>\n",
       "      <th>std</th>\n",
       "      <td>0.00</td>\n",
       "      <td>0.99</td>\n",
       "      <td>0.60</td>\n",
       "    </tr>\n",
       "    <tr>\n",
       "      <th>p_breach</th>\n",
       "      <td>NaN</td>\n",
       "      <td>0.03</td>\n",
       "      <td>0.01</td>\n",
       "    </tr>\n",
       "    <tr>\n",
       "      <th>e_short</th>\n",
       "      <td>NaN</td>\n",
       "      <td>0.11</td>\n",
       "      <td>0.07</td>\n",
       "    </tr>\n",
       "    <tr>\n",
       "      <th>p_reach</th>\n",
       "      <td>NaN</td>\n",
       "      <td>NaN</td>\n",
       "      <td>NaN</td>\n",
       "    </tr>\n",
       "    <tr>\n",
       "      <th>e_surplus</th>\n",
       "      <td>NaN</td>\n",
       "      <td>NaN</td>\n",
       "      <td>NaN</td>\n",
       "    </tr>\n",
       "  </tbody>\n",
       "</table>\n",
       "</div>"
      ],
      "text/plain": [
       "             ZC    Eq  70/30\n",
       "mean       1.34  1.98   1.76\n",
       "std        0.00  0.99   0.60\n",
       "p_breach    NaN  0.03   0.01\n",
       "e_short     NaN  0.11   0.07\n",
       "p_reach     NaN   NaN    NaN\n",
       "e_surplus   NaN   NaN    NaN"
      ]
     },
     "execution_count": 3,
     "metadata": {},
     "output_type": "execute_result"
    }
   ],
   "source": [
    "n_scenarios = 5000\n",
    "rates, zc_price = model.cir(10, n_scenarios=n_scenarios, b=0.03, r_0=0.03, sigma=0.02)\n",
    "price_eq = model.gbm(n_years=10, n_scenarios=n_scenarios, mu=0.07, sigma=0.15)\n",
    "\n",
    "rets_eq = price_eq.pct_change().dropna()\n",
    "rets_zc = zc_price.pct_change().dropna()\n",
    "rets_7030b = portfolio.bt_mix(rets_eq, rets_zc, allocator=portfolio.fixedmix_allocator, w1=0.7)\n",
    "pd.concat([portfolio.terminal_stats(rets_zc, name=\"ZC\", floor=0.75), \n",
    "           portfolio.terminal_stats(rets_eq, name=\"Eq\", floor=0.75),\n",
    "           portfolio.terminal_stats(rets_7030b, name=\"70/30\", floor=0.75)],\n",
    "          axis=1).round(2)"
   ]
  },
  {
   "cell_type": "markdown",
   "metadata": {},
   "source": [
    "The breaches happen because the allocator is blind to the floor value set."
   ]
  },
  {
   "cell_type": "code",
   "execution_count": 4,
   "metadata": {},
   "outputs": [],
   "source": [
    "def floor_allocator(psp_r, ghp_r, floor, zc_prices, m=3):\n",
    "    \"\"\"\n",
    "    Allocate between PSP and GHP with the goal to provide exposure to the upside\n",
    "    of the PSP without going violating the floor.\n",
    "    Uses a CPPI-style dynamic risk budgeting algorithm by investing a multiple\n",
    "    of the cushion in the PSP\n",
    "    Returns a DataFrame with the same shape as the psp/ghp representing the weights in the PSP\n",
    "    \"\"\"\n",
    "    if zc_prices.shape != psp_r.shape:\n",
    "        raise ValueError(\"PSP and ZC Prices must have the same shape\")\n",
    "    n_steps, n_scenarios = psp_r.shape\n",
    "    account_value = np.repeat(1, n_scenarios)\n",
    "    floor_value = np.repeat(1, n_scenarios)\n",
    "    w_history = pd.DataFrame(index=psp_r.index, columns=psp_r.columns)\n",
    "    for step in range(n_steps):\n",
    "        floor_value = floor*zc_prices.iloc[step] ## PV of Floor assuming today's rates and flat YC\n",
    "        cushion = (account_value - floor_value)/account_value\n",
    "        psp_w = (m*cushion).clip(0, 1) # same as applying min and max\n",
    "        ghp_w = 1-psp_w\n",
    "        psp_alloc = account_value*psp_w\n",
    "        ghp_alloc = account_value*ghp_w\n",
    "        # recompute the new account value at the end of this step\n",
    "        account_value = psp_alloc*(1+psp_r.iloc[step]) + ghp_alloc*(1+ghp_r.iloc[step])\n",
    "        w_history.iloc[step] = psp_w\n",
    "    return w_history"
   ]
  },
  {
   "cell_type": "code",
   "execution_count": 6,
   "metadata": {},
   "outputs": [
    {
     "data": {
      "text/html": [
       "<div>\n",
       "<style scoped>\n",
       "    .dataframe tbody tr th:only-of-type {\n",
       "        vertical-align: middle;\n",
       "    }\n",
       "\n",
       "    .dataframe tbody tr th {\n",
       "        vertical-align: top;\n",
       "    }\n",
       "\n",
       "    .dataframe thead th {\n",
       "        text-align: right;\n",
       "    }\n",
       "</style>\n",
       "<table border=\"1\" class=\"dataframe\">\n",
       "  <thead>\n",
       "    <tr style=\"text-align: right;\">\n",
       "      <th></th>\n",
       "      <th>ZC</th>\n",
       "      <th>Eq</th>\n",
       "      <th>70/30</th>\n",
       "      <th>Floor75</th>\n",
       "    </tr>\n",
       "  </thead>\n",
       "  <tbody>\n",
       "    <tr>\n",
       "      <th>mean</th>\n",
       "      <td>1.34</td>\n",
       "      <td>1.98</td>\n",
       "      <td>1.76</td>\n",
       "      <td>1.96</td>\n",
       "    </tr>\n",
       "    <tr>\n",
       "      <th>std</th>\n",
       "      <td>0.00</td>\n",
       "      <td>0.99</td>\n",
       "      <td>0.60</td>\n",
       "      <td>0.99</td>\n",
       "    </tr>\n",
       "    <tr>\n",
       "      <th>p_breach</th>\n",
       "      <td>NaN</td>\n",
       "      <td>0.03</td>\n",
       "      <td>0.01</td>\n",
       "      <td>NaN</td>\n",
       "    </tr>\n",
       "    <tr>\n",
       "      <th>e_short</th>\n",
       "      <td>NaN</td>\n",
       "      <td>0.11</td>\n",
       "      <td>0.07</td>\n",
       "      <td>NaN</td>\n",
       "    </tr>\n",
       "    <tr>\n",
       "      <th>p_reach</th>\n",
       "      <td>NaN</td>\n",
       "      <td>NaN</td>\n",
       "      <td>NaN</td>\n",
       "      <td>NaN</td>\n",
       "    </tr>\n",
       "    <tr>\n",
       "      <th>e_surplus</th>\n",
       "      <td>NaN</td>\n",
       "      <td>NaN</td>\n",
       "      <td>NaN</td>\n",
       "      <td>NaN</td>\n",
       "    </tr>\n",
       "  </tbody>\n",
       "</table>\n",
       "</div>"
      ],
      "text/plain": [
       "             ZC    Eq  70/30  Floor75\n",
       "mean       1.34  1.98   1.76     1.96\n",
       "std        0.00  0.99   0.60     0.99\n",
       "p_breach    NaN  0.03   0.01      NaN\n",
       "e_short     NaN  0.11   0.07      NaN\n",
       "p_reach     NaN   NaN    NaN      NaN\n",
       "e_surplus   NaN   NaN    NaN      NaN"
      ]
     },
     "execution_count": 6,
     "metadata": {},
     "output_type": "execute_result"
    }
   ],
   "source": [
    "rets_floor75 = portfolio.bt_mix(rets_eq, rets_zc, allocator=portfolio.floor_allocator, floor=.75,  zc_prices=zc_price[1:])\n",
    "pd.concat([portfolio.terminal_stats(rets_zc, name=\"ZC\", floor=0.75), \n",
    "           portfolio.terminal_stats(rets_eq, name=\"Eq\", floor=0.75),\n",
    "           portfolio.terminal_stats(rets_7030b, name=\"70/30\", floor=0.75),\n",
    "           portfolio.terminal_stats(rets_floor75, name=\"Floor75\", floor=0.75),\n",
    "          ],\n",
    "          axis=1).round(2)"
   ]
  },
  {
   "cell_type": "code",
   "execution_count": 7,
   "metadata": {},
   "outputs": [],
   "source": [
    "# With the floor75 we are giving up 2 cents in comparison to equities, however we do not face a breach (11 cents)"
   ]
  },
  {
   "cell_type": "code",
   "execution_count": 9,
   "metadata": {},
   "outputs": [
    {
     "data": {
      "text/html": [
       "<div>\n",
       "<style scoped>\n",
       "    .dataframe tbody tr th:only-of-type {\n",
       "        vertical-align: middle;\n",
       "    }\n",
       "\n",
       "    .dataframe tbody tr th {\n",
       "        vertical-align: top;\n",
       "    }\n",
       "\n",
       "    .dataframe thead th {\n",
       "        text-align: right;\n",
       "    }\n",
       "</style>\n",
       "<table border=\"1\" class=\"dataframe\">\n",
       "  <thead>\n",
       "    <tr style=\"text-align: right;\">\n",
       "      <th></th>\n",
       "      <th>ZC</th>\n",
       "      <th>Eq</th>\n",
       "      <th>70/30</th>\n",
       "      <th>Floor75</th>\n",
       "      <th>Floor75 m1</th>\n",
       "      <th>Floor75 m5</th>\n",
       "    </tr>\n",
       "  </thead>\n",
       "  <tbody>\n",
       "    <tr>\n",
       "      <th>mean</th>\n",
       "      <td>1.3433</td>\n",
       "      <td>1.9817</td>\n",
       "      <td>1.7645</td>\n",
       "      <td>1.9560</td>\n",
       "      <td>1.6272</td>\n",
       "      <td>1.9673</td>\n",
       "    </tr>\n",
       "    <tr>\n",
       "      <th>std</th>\n",
       "      <td>0.0000</td>\n",
       "      <td>0.9860</td>\n",
       "      <td>0.5971</td>\n",
       "      <td>0.9922</td>\n",
       "      <td>0.4351</td>\n",
       "      <td>0.9952</td>\n",
       "    </tr>\n",
       "    <tr>\n",
       "      <th>p_breach</th>\n",
       "      <td>NaN</td>\n",
       "      <td>0.0348</td>\n",
       "      <td>0.0062</td>\n",
       "      <td>NaN</td>\n",
       "      <td>NaN</td>\n",
       "      <td>0.0002</td>\n",
       "    </tr>\n",
       "    <tr>\n",
       "      <th>e_short</th>\n",
       "      <td>NaN</td>\n",
       "      <td>0.1092</td>\n",
       "      <td>0.0696</td>\n",
       "      <td>NaN</td>\n",
       "      <td>NaN</td>\n",
       "      <td>0.0002</td>\n",
       "    </tr>\n",
       "    <tr>\n",
       "      <th>p_reach</th>\n",
       "      <td>NaN</td>\n",
       "      <td>NaN</td>\n",
       "      <td>NaN</td>\n",
       "      <td>NaN</td>\n",
       "      <td>NaN</td>\n",
       "      <td>NaN</td>\n",
       "    </tr>\n",
       "    <tr>\n",
       "      <th>e_surplus</th>\n",
       "      <td>NaN</td>\n",
       "      <td>NaN</td>\n",
       "      <td>NaN</td>\n",
       "      <td>NaN</td>\n",
       "      <td>NaN</td>\n",
       "      <td>NaN</td>\n",
       "    </tr>\n",
       "  </tbody>\n",
       "</table>\n",
       "</div>"
      ],
      "text/plain": [
       "               ZC      Eq   70/30  Floor75  Floor75 m1  Floor75 m5\n",
       "mean       1.3433  1.9817  1.7645   1.9560      1.6272      1.9673\n",
       "std        0.0000  0.9860  0.5971   0.9922      0.4351      0.9952\n",
       "p_breach      NaN  0.0348  0.0062      NaN         NaN      0.0002\n",
       "e_short       NaN  0.1092  0.0696      NaN         NaN      0.0002\n",
       "p_reach       NaN     NaN     NaN      NaN         NaN         NaN\n",
       "e_surplus     NaN     NaN     NaN      NaN         NaN         NaN"
      ]
     },
     "execution_count": 9,
     "metadata": {},
     "output_type": "execute_result"
    }
   ],
   "source": [
    "rets_floor75m1 = portfolio.bt_mix(rets_eq, rets_zc, allocator=portfolio.floor_allocator, floor=.75,  zc_prices=zc_price[1:], m=1)\n",
    "rets_floor75m5 = portfolio.bt_mix(rets_eq, rets_zc, allocator=portfolio.floor_allocator, floor=.75,  zc_prices=zc_price[1:], m=5)\n",
    "pd.concat([portfolio.terminal_stats(rets_zc, name=\"ZC\", floor=0.75), \n",
    "           portfolio.terminal_stats(rets_eq, name=\"Eq\", floor=0.75),\n",
    "           portfolio.terminal_stats(rets_7030b, name=\"70/30\", floor=0.75),\n",
    "           portfolio.terminal_stats(rets_floor75, name=\"Floor75\", floor=0.75),\n",
    "           portfolio.terminal_stats(rets_floor75m1, name=\"Floor75 m1\", floor=0.75),\n",
    "           portfolio.terminal_stats(rets_floor75m5, name=\"Floor75 m5\", floor=0.75)         \n",
    "          ],\n",
    "          axis=1).round(4)"
   ]
  },
  {
   "cell_type": "code",
   "execution_count": 10,
   "metadata": {},
   "outputs": [],
   "source": [
    "# m5 is close to equties in terms of performance but a very small probability of a shortfall with a small size"
   ]
  },
  {
   "cell_type": "markdown",
   "metadata": {},
   "source": [
    "Instead of using a fixed floor we can use a drawdown allocator. In order to achieve this we need to use cash because of the short duration and the property that it won't fluctuate like the value of a bond."
   ]
  },
  {
   "cell_type": "code",
   "execution_count": 11,
   "metadata": {},
   "outputs": [],
   "source": [
    "def drawdown_allocator(psp_r, ghp_r, maxdd, m=3):\n",
    "    \"\"\"\n",
    "    Allocate between PSP and GHP with the goal to provide exposure to the upside\n",
    "    of the PSP without going violating the floor.\n",
    "    Uses a CPPI-style dynamic risk budgeting algorithm by investing a multiple\n",
    "    of the cushion in the PSP\n",
    "    Returns a DataFrame with the same shape as the psp/ghp representing the weights in the PSP\n",
    "    \"\"\"\n",
    "    n_steps, n_scenarios = psp_r.shape\n",
    "    account_value = np.repeat(1, n_scenarios)\n",
    "    floor_value = np.repeat(1, n_scenarios)\n",
    "    ### For MaxDD\n",
    "    peak_value = np.repeat(1, n_scenarios)\n",
    "    w_history = pd.DataFrame(index=psp_r.index, columns=psp_r.columns)\n",
    "    for step in range(n_steps):\n",
    "        ### For MaxDD\n",
    "        floor_value = (1-maxdd)*peak_value ### Floor is based on Prev Peak\n",
    "        cushion = (account_value - floor_value)/account_value\n",
    "        psp_w = (m*cushion).clip(0, 1) # same as applying min and max\n",
    "        ghp_w = 1-psp_w\n",
    "        psp_alloc = account_value*psp_w\n",
    "        ghp_alloc = account_value*ghp_w\n",
    "        # recompute the new account value at the end of this step\n",
    "        account_value = psp_alloc*(1+psp_r.iloc[step]) + ghp_alloc*(1+ghp_r.iloc[step])\n",
    "        ### For MaxDD\n",
    "        peak_value = np.maximum(peak_value, account_value) ### For MaxDD\n",
    "        w_history.iloc[step] = psp_w\n",
    "    return w_history"
   ]
  },
  {
   "cell_type": "code",
   "execution_count": 12,
   "metadata": {},
   "outputs": [],
   "source": [
    "cashrate = 0.02\n",
    "monthly_cashreturn = (1 + cashrate)**(1/12) - 1\n",
    "rets_cash = pd.DataFrame(data=monthly_cashreturn, index=rets_eq.index, columns=rets_eq.columns)\n",
    "rets_maxdd25 = portfolio.bt_mix(rets_eq, rets_cash, allocator=portfolio.drawdown_allocator, maxdd=0.25)\n",
    "tv_rets_maxdd25 = portfolio.terminal_values(rets_maxdd25)"
   ]
  },
  {
   "cell_type": "code",
   "execution_count": 13,
   "metadata": {},
   "outputs": [
    {
     "data": {
      "text/html": [
       "<div>\n",
       "<style scoped>\n",
       "    .dataframe tbody tr th:only-of-type {\n",
       "        vertical-align: middle;\n",
       "    }\n",
       "\n",
       "    .dataframe tbody tr th {\n",
       "        vertical-align: top;\n",
       "    }\n",
       "\n",
       "    .dataframe thead th {\n",
       "        text-align: right;\n",
       "    }\n",
       "</style>\n",
       "<table border=\"1\" class=\"dataframe\">\n",
       "  <thead>\n",
       "    <tr style=\"text-align: right;\">\n",
       "      <th></th>\n",
       "      <th>ZC</th>\n",
       "      <th>Eq</th>\n",
       "      <th>70/30</th>\n",
       "      <th>Floor75</th>\n",
       "      <th>Floor75 m1</th>\n",
       "      <th>Floor75 m5</th>\n",
       "      <th>Max Drawdown 25</th>\n",
       "    </tr>\n",
       "  </thead>\n",
       "  <tbody>\n",
       "    <tr>\n",
       "      <th>mean</th>\n",
       "      <td>1.3433</td>\n",
       "      <td>1.9817</td>\n",
       "      <td>1.7645</td>\n",
       "      <td>1.9560</td>\n",
       "      <td>1.6272</td>\n",
       "      <td>1.9673</td>\n",
       "      <td>1.6355</td>\n",
       "    </tr>\n",
       "    <tr>\n",
       "      <th>std</th>\n",
       "      <td>0.0000</td>\n",
       "      <td>0.9860</td>\n",
       "      <td>0.5971</td>\n",
       "      <td>0.9922</td>\n",
       "      <td>0.4351</td>\n",
       "      <td>0.9952</td>\n",
       "      <td>0.5435</td>\n",
       "    </tr>\n",
       "    <tr>\n",
       "      <th>p_breach</th>\n",
       "      <td>NaN</td>\n",
       "      <td>0.0348</td>\n",
       "      <td>0.0062</td>\n",
       "      <td>NaN</td>\n",
       "      <td>NaN</td>\n",
       "      <td>0.0002</td>\n",
       "      <td>NaN</td>\n",
       "    </tr>\n",
       "    <tr>\n",
       "      <th>e_short</th>\n",
       "      <td>NaN</td>\n",
       "      <td>0.1092</td>\n",
       "      <td>0.0696</td>\n",
       "      <td>NaN</td>\n",
       "      <td>NaN</td>\n",
       "      <td>0.0002</td>\n",
       "      <td>NaN</td>\n",
       "    </tr>\n",
       "    <tr>\n",
       "      <th>p_reach</th>\n",
       "      <td>NaN</td>\n",
       "      <td>NaN</td>\n",
       "      <td>NaN</td>\n",
       "      <td>NaN</td>\n",
       "      <td>NaN</td>\n",
       "      <td>NaN</td>\n",
       "      <td>NaN</td>\n",
       "    </tr>\n",
       "    <tr>\n",
       "      <th>e_surplus</th>\n",
       "      <td>NaN</td>\n",
       "      <td>NaN</td>\n",
       "      <td>NaN</td>\n",
       "      <td>NaN</td>\n",
       "      <td>NaN</td>\n",
       "      <td>NaN</td>\n",
       "      <td>NaN</td>\n",
       "    </tr>\n",
       "  </tbody>\n",
       "</table>\n",
       "</div>"
      ],
      "text/plain": [
       "               ZC      Eq   70/30  Floor75  Floor75 m1  Floor75 m5  \\\n",
       "mean       1.3433  1.9817  1.7645   1.9560      1.6272      1.9673   \n",
       "std        0.0000  0.9860  0.5971   0.9922      0.4351      0.9952   \n",
       "p_breach      NaN  0.0348  0.0062      NaN         NaN      0.0002   \n",
       "e_short       NaN  0.1092  0.0696      NaN         NaN      0.0002   \n",
       "p_reach       NaN     NaN     NaN      NaN         NaN         NaN   \n",
       "e_surplus     NaN     NaN     NaN      NaN         NaN         NaN   \n",
       "\n",
       "           Max Drawdown 25  \n",
       "mean                1.6355  \n",
       "std                 0.5435  \n",
       "p_breach               NaN  \n",
       "e_short                NaN  \n",
       "p_reach                NaN  \n",
       "e_surplus              NaN  "
      ]
     },
     "execution_count": 13,
     "metadata": {},
     "output_type": "execute_result"
    }
   ],
   "source": [
    "pd.concat([portfolio.terminal_stats(rets_zc, name=\"ZC\", floor=0.75), \n",
    "           portfolio.terminal_stats(rets_eq, name=\"Eq\", floor=0.75),\n",
    "           portfolio.terminal_stats(rets_7030b, name=\"70/30\", floor=0.75),\n",
    "           portfolio.terminal_stats(rets_floor75, name=\"Floor75\", floor=0.75),\n",
    "           portfolio.terminal_stats(rets_floor75m1, name=\"Floor75 m1\", floor=0.75),\n",
    "           portfolio.terminal_stats(rets_floor75m5, name=\"Floor75 m5\", floor=0.75),\n",
    "           portfolio.terminal_stats(rets_maxdd25, name=\"Max Drawdown 25\", floor=0.75),\n",
    "          ],\n",
    "          axis=1).round(4)"
   ]
  },
  {
   "cell_type": "code",
   "execution_count": 14,
   "metadata": {},
   "outputs": [
    {
     "data": {
      "text/plain": [
       "0   -0.178814\n",
       "1   -0.149800\n",
       "2   -0.120466\n",
       "3   -0.155204\n",
       "4   -0.127105\n",
       "Name: Max Drawdown, dtype: float64"
      ]
     },
     "execution_count": 14,
     "metadata": {},
     "output_type": "execute_result"
    }
   ],
   "source": [
    "portfolio.summary_stats(rets_maxdd25)[\"Max Drawdown\"].head()"
   ]
  },
  {
   "cell_type": "code",
   "execution_count": 15,
   "metadata": {},
   "outputs": [
    {
     "data": {
      "text/plain": [
       "-0.23499429032176147"
      ]
     },
     "execution_count": 15,
     "metadata": {},
     "output_type": "execute_result"
    }
   ],
   "source": [
    "portfolio.summary_stats(rets_maxdd25)[\"Max Drawdown\"].min()"
   ]
  },
  {
   "cell_type": "code",
   "execution_count": 17,
   "metadata": {},
   "outputs": [],
   "source": [
    "tv_eq = portfolio.terminal_values(rets_eq)\n",
    "tv_zc = portfolio.terminal_values(rets_zc)\n",
    "tv_7030b = portfolio.terminal_values(rets_7030b)\n",
    "tv_floor75 = portfolio.terminal_values(rets_floor75)\n",
    "tv_floor75m1 = portfolio.terminal_values(rets_floor75m1)"
   ]
  },
  {
   "cell_type": "code",
   "execution_count": 22,
   "metadata": {},
   "outputs": [
    {
     "data": {
      "image/png": "[encoded data removed]",
      "text/plain": [
       "<Figure size 864x432 with 1 Axes>"
      ]
     },
     "metadata": {
      "needs_background": "light"
     },
     "output_type": "display_data"
    }
   ],
   "source": [
    "import matplotlib.pyplot as plt\n",
    "\n",
    "plt.figure(figsize=(12, 6))\n",
    "sns.distplot(tv_eq, color=\"red\", label=\"100% Equities\", bins=100)\n",
    "plt.axvline(tv_eq.mean(), ls=\"--\", color=\"red\")\n",
    "#sns.distplot(tv_zc, color=\"blue\", label=\"100% Immunized Bonds\")\n",
    "#plt.axvline(tv_zc.mean(), ls=\"--\", color=\"blue\")\n",
    "sns.distplot(tv_7030b, color=\"orange\", label=\"70/30 Equities/Bonds\", bins=100)\n",
    "plt.axvline(tv_7030b.mean(), ls=\"--\", color=\"orange\")\n",
    "sns.distplot(tv_floor75, color=\"green\", label=\"Floor at 75%\", bins=100)\n",
    "plt.axvline(tv_floor75.mean(), ls=\"--\", color=\"green\")\n",
    "sns.distplot(tv_rets_maxdd25, color=\"yellow\", label=\"MaxDD = 25%\", bins=100)\n",
    "plt.axvline(tv_rets_maxdd25.mean(), ls=\"--\", color=\"yellow\")\n",
    "plt.legend();"
   ]
  },
  {
   "cell_type": "markdown",
   "metadata": {},
   "source": [
    "## Looking at the numbers for historical data"
   ]
  },
  {
   "cell_type": "code",
   "execution_count": 23,
   "metadata": {},
   "outputs": [],
   "source": [
    "import my_modules.data as data"
   ]
  },
  {
   "cell_type": "code",
   "execution_count": 27,
   "metadata": {},
   "outputs": [
    {
     "data": {
      "text/plain": [
       "<matplotlib.axes._subplots.AxesSubplot at 0x123f9f070>"
      ]
     },
     "execution_count": 27,
     "metadata": {},
     "output_type": "execute_result"
    },
    {
     "data": {
      "image/png": "[encoded data removed]",
      "text/plain": [
       "<Figure size 864x432 with 1 Axes>"
      ]
     },
     "metadata": {
      "needs_background": "light"
     },
     "output_type": "display_data"
    }
   ],
   "source": [
    "rets_tmi = data.get_total_market_index_returns()['1990':]\n",
    "dd_tmi = risk.drawdown(rets_tmi)\n",
    "ax = dd_tmi['Wealth'].plot(figsize=(12,6), ls='-', color='goldenrod')\n",
    "dd_tmi['Peaks'].plot(ax=ax, ls=':', color='goldenrod')"
   ]
  },
  {
   "cell_type": "code",
   "execution_count": 37,
   "metadata": {},
   "outputs": [
    {
     "data": {
      "text/plain": [
       "<matplotlib.axes._subplots.AxesSubplot at 0x123f8c730>"
      ]
     },
     "execution_count": 37,
     "metadata": {},
     "output_type": "execute_result"
    },
    {
     "data": {
      "image/png": "[encoded data removed]",
      "text/plain": [
       "<Figure size 864x432 with 1 Axes>"
      ]
     },
     "metadata": {
      "needs_background": "light"
     },
     "output_type": "display_data"
    }
   ],
   "source": [
    "# Running the same plot as previously but with real data\n",
    "cashrate = 0.03\n",
    "monthly_cashreturn = (1+cashrate)**(1/12) - 1\n",
    "rets_cash = pd.DataFrame(data=monthly_cashreturn, index=rets_tmi.index, columns=[0]) # 1 column dataframe\n",
    "rets_maxdd25 = portfolio.bt_mix(pd.DataFrame(rets_tmi), rets_cash, allocator=portfolio.drawdown_allocator, maxdd=.25, m=5)\n",
    "dd_25 = risk.drawdown(rets_maxdd25[0])\n",
    "\n",
    "ax = dd_tmi[\"Wealth\"].plot(figsize=(12,6), ls=\"-\", color=\"goldenrod\", label=\"Market\", legend=True)\n",
    "dd_tmi[\"Peaks\"].plot(ax=ax, ls=\":\", color=\"goldenrod\", legend=True)\n",
    "dd_25[\"Wealth\"].plot(ax=ax, label=\"MaxDD 25%\", color=\"cornflowerblue\", legend=True)\n",
    "dd_25[\"Peaks\"].plot(ax=ax, color=\"cornflowerblue\", ls=\":\", legend=True)"
   ]
  },
  {
   "cell_type": "code",
   "execution_count": null,
   "metadata": {},
   "outputs": [],
   "source": []
  }
 ],
 "metadata": {
  "kernelspec": {
   "display_name": "Python 3",
   "language": "python",
   "name": "python3"
  },
  "language_info": {
   "codemirror_mode": {
    "name": "ipython",
    "version": 3
   },
   "file_extension": ".py",
   "mimetype": "text/x-python",
   "name": "python",
   "nbconvert_exporter": "python",
   "pygments_lexer": "ipython3",
   "version": "3.8.3"
  }
 },
 "nbformat": 4,
 "nbformat_minor": 4
}
