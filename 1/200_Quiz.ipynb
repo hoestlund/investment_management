{
 "cells": [
  {
   "cell_type": "code",
   "execution_count": 1,
   "metadata": {},
   "outputs": [],
   "source": [
    "#Quiz 2\n",
    "%load_ext autoreload\n",
    "%autoreload 2\n",
    "%matplotlib inline\n",
    "from my_modules import risk\n",
    "from my_modules import data\n",
    "from my_modules import portfolio\n",
    "\n",
    "from scipy.optimize import minimize\n",
    "import numpy as np\n",
    "import pandas as pd"
   ]
  },
  {
   "cell_type": "code",
   "execution_count": 36,
   "metadata": {},
   "outputs": [],
   "source": [
    "#Use the EDHEC Hedge Fund Indices data set that we used in the lab assignment as well as in the previous week’s \n",
    "# assignments. Load them into Python and perform the following analysis based on data since 2000 (including \n",
    "# all of 2000):\n",
    "hfi = data.get_hfi_returns()['2000':]\n",
    "er = risk.annualise_rets(hfi)\n",
    "cov = hfi.cov()"
   ]
  },
  {
   "cell_type": "code",
   "execution_count": 38,
   "metadata": {},
   "outputs": [
    {
     "data": {
      "text/plain": [
       "0.03143017693928047"
      ]
     },
     "execution_count": 38,
     "metadata": {},
     "output_type": "execute_result"
    }
   ],
   "source": [
    "# 1. What was the Monthly Parametric Gaussian VaR at the 1% level (as a +ve number)\n",
    "# of the Distressed Securities strategy?\n",
    "risk.var_gaussian(hfi, level=1)['Distressed Securities'] #0.031430"
   ]
  },
  {
   "cell_type": "code",
   "execution_count": 39,
   "metadata": {},
   "outputs": [
    {
     "data": {
      "text/plain": [
       "0.04966909110627918"
      ]
     },
     "execution_count": 39,
     "metadata": {},
     "output_type": "execute_result"
    }
   ],
   "source": [
    "# 2. What was the 1% VaR for the same strategy after applying the Cornish-Fisher Adjustment?\n",
    "risk.var_gaussian(hfi, level=1, modified=True)['Distressed Securities']"
   ]
  },
  {
   "cell_type": "code",
   "execution_count": 40,
   "metadata": {},
   "outputs": [
    {
     "data": {
      "text/plain": [
       "0.042642"
      ]
     },
     "execution_count": 40,
     "metadata": {},
     "output_type": "execute_result"
    }
   ],
   "source": [
    "# 3. Monthly Historic VaR at the 1% level (as a +ve number) of the Distressed Securities strategy?\n",
    "risk.var_historic(hfi, level=1)['Distressed Securities']"
   ]
  },
  {
   "cell_type": "markdown",
   "metadata": {},
   "source": [
    ">Next, load the 30 industry return data using the erk.get_ind_returns() function that we developed during the lab sessions. For purposes of the remaining questions, use data during the 5 year period 2013-2017 (both inclusive) to estimate the expected returns as well as the covariance matrix. To be able to respond to the questions, you will need to build the MSR, EW and GMV portfolios consisting of the “Books”, “Steel”, \"Oil\", and \"Mines\" industries. Assume the risk free rate over the 5 year period is 10%."
   ]
  },
  {
   "cell_type": "code",
   "execution_count": 46,
   "metadata": {},
   "outputs": [],
   "source": [
    "l=['Books', 'Steel', 'Oil', 'Mines']\n",
    "risk_free = 0.1\n",
    "ind = data.get_ind30_vw_returns()['2013':'2017']\n",
    "er = risk.annualise_rets(ind)\n",
    "cov = ind.cov()"
   ]
  },
  {
   "cell_type": "code",
   "execution_count": 79,
   "metadata": {},
   "outputs": [
    {
     "name": "stdout",
     "output_type": "stream",
     "text": [
      "0.25\n"
     ]
    }
   ],
   "source": [
    "# 4. What is the weight of Steel in the EW Portfolio?\n",
    "print(\"0.25\")"
   ]
  },
  {
   "cell_type": "code",
   "execution_count": 80,
   "metadata": {},
   "outputs": [
    {
     "name": "stdout",
     "output_type": "stream",
     "text": [
      "1\n"
     ]
    }
   ],
   "source": [
    "# 5. What is the weight of the largest component of the MSR portfolio?\n",
    "portfolio.msrp(risk_free, er[l], cov.loc[l,l])\n",
    "print(\"1\")"
   ]
  },
  {
   "cell_type": "code",
   "execution_count": 49,
   "metadata": {},
   "outputs": [
    {
     "name": "stdout",
     "output_type": "stream",
     "text": [
      "Steel\n"
     ]
    }
   ],
   "source": [
    "# 6. Which of the 4 components has the largest weight in the MSR portfolio?\n",
    "print(\"Steel\")"
   ]
  },
  {
   "cell_type": "code",
   "execution_count": 58,
   "metadata": {},
   "outputs": [
    {
     "name": "stdout",
     "output_type": "stream",
     "text": [
      "One - the others are negilable\n"
     ]
    }
   ],
   "source": [
    "# 7. How many of the components of the MSR portfolio have non-zero weights?\n",
    "print(\"One - the others are negilable\")"
   ]
  },
  {
   "cell_type": "code",
   "execution_count": 59,
   "metadata": {},
   "outputs": [
    {
     "data": {
      "text/html": [
       "<div>\n",
       "<style scoped>\n",
       "    .dataframe tbody tr th:only-of-type {\n",
       "        vertical-align: middle;\n",
       "    }\n",
       "\n",
       "    .dataframe tbody tr th {\n",
       "        vertical-align: top;\n",
       "    }\n",
       "\n",
       "    .dataframe thead th {\n",
       "        text-align: right;\n",
       "    }\n",
       "</style>\n",
       "<table border=\"1\" class=\"dataframe\">\n",
       "  <thead>\n",
       "    <tr style=\"text-align: right;\">\n",
       "      <th></th>\n",
       "      <th>Books</th>\n",
       "      <th>Steel</th>\n",
       "      <th>Oil</th>\n",
       "      <th>Mines</th>\n",
       "    </tr>\n",
       "  </thead>\n",
       "  <tbody>\n",
       "    <tr>\n",
       "      <td>Books</td>\n",
       "      <td>0.002720</td>\n",
       "      <td>0.001940</td>\n",
       "      <td>0.001637</td>\n",
       "      <td>0.001539</td>\n",
       "    </tr>\n",
       "    <tr>\n",
       "      <td>Steel</td>\n",
       "      <td>0.001940</td>\n",
       "      <td>0.004391</td>\n",
       "      <td>0.002122</td>\n",
       "      <td>0.003391</td>\n",
       "    </tr>\n",
       "    <tr>\n",
       "      <td>Oil</td>\n",
       "      <td>0.001637</td>\n",
       "      <td>0.002122</td>\n",
       "      <td>0.002697</td>\n",
       "      <td>0.002179</td>\n",
       "    </tr>\n",
       "    <tr>\n",
       "      <td>Mines</td>\n",
       "      <td>0.001539</td>\n",
       "      <td>0.003391</td>\n",
       "      <td>0.002179</td>\n",
       "      <td>0.005232</td>\n",
       "    </tr>\n",
       "  </tbody>\n",
       "</table>\n",
       "</div>"
      ],
      "text/plain": [
       "          Books     Steel       Oil     Mines\n",
       "Books  0.002720  0.001940  0.001637  0.001539\n",
       "Steel  0.001940  0.004391  0.002122  0.003391\n",
       "Oil    0.001637  0.002122  0.002697  0.002179\n",
       "Mines  0.001539  0.003391  0.002179  0.005232"
      ]
     },
     "execution_count": 59,
     "metadata": {},
     "output_type": "execute_result"
    }
   ],
   "source": [
    "# 8. What is the weight of the largest component of the GMV portfolio?\n",
    "cov"
   ]
  },
  {
   "cell_type": "code",
   "execution_count": 60,
   "metadata": {},
   "outputs": [
    {
     "data": {
      "text/plain": [
       "array([0.47702487, 0.        , 0.43411203, 0.0888631 ])"
      ]
     },
     "execution_count": 60,
     "metadata": {},
     "output_type": "execute_result"
    }
   ],
   "source": [
    "portfolio.gmv(cov)"
   ]
  },
  {
   "cell_type": "code",
   "execution_count": 62,
   "metadata": {},
   "outputs": [
    {
     "name": "stdout",
     "output_type": "stream",
     "text": [
      "Books\n"
     ]
    }
   ],
   "source": [
    "# 9. Which of the 4 components has the largest weight in the GMV portfolio?\n",
    "print(\"Books\")"
   ]
  },
  {
   "cell_type": "code",
   "execution_count": 63,
   "metadata": {},
   "outputs": [
    {
     "name": "stdout",
     "output_type": "stream",
     "text": [
      "3\n"
     ]
    }
   ],
   "source": [
    "# 10. How many of the components of the GMV portfolio have non-zero weights?\n",
    "print(\"3\")"
   ]
  },
  {
   "cell_type": "markdown",
   "metadata": {},
   "source": [
    ">Assume two different investors invested in the GMV and MSR portfolios at the start of 2018 using the weights we just computed. Compute the annualized volatility of these two portfolios over the next 12 months of 2018? (Hint: Use the portfolio_vol code we developed in the lab and use ind[“2018”][l].cov() to compute the covariance matrix for 2018, assuming that the variable ind holds the industry returns and the variable l holds the list of industry portfolios you are willing to hold. Don’t forget to annualize the volatility)"
   ]
  },
  {
   "cell_type": "code",
   "execution_count": 68,
   "metadata": {},
   "outputs": [
    {
     "data": {
      "text/html": [
       "<div>\n",
       "<style scoped>\n",
       "    .dataframe tbody tr th:only-of-type {\n",
       "        vertical-align: middle;\n",
       "    }\n",
       "\n",
       "    .dataframe tbody tr th {\n",
       "        vertical-align: top;\n",
       "    }\n",
       "\n",
       "    .dataframe thead th {\n",
       "        text-align: right;\n",
       "    }\n",
       "</style>\n",
       "<table border=\"1\" class=\"dataframe\">\n",
       "  <thead>\n",
       "    <tr style=\"text-align: right;\">\n",
       "      <th></th>\n",
       "      <th>Books</th>\n",
       "      <th>Steel</th>\n",
       "      <th>Oil</th>\n",
       "      <th>Mines</th>\n",
       "    </tr>\n",
       "  </thead>\n",
       "  <tbody>\n",
       "    <tr>\n",
       "      <td>2018-01</td>\n",
       "      <td>0.0449</td>\n",
       "      <td>0.0361</td>\n",
       "      <td>0.0286</td>\n",
       "      <td>0.0357</td>\n",
       "    </tr>\n",
       "    <tr>\n",
       "      <td>2018-02</td>\n",
       "      <td>-0.0325</td>\n",
       "      <td>-0.0199</td>\n",
       "      <td>-0.1102</td>\n",
       "      <td>-0.0335</td>\n",
       "    </tr>\n",
       "    <tr>\n",
       "      <td>2018-03</td>\n",
       "      <td>0.0031</td>\n",
       "      <td>-0.0586</td>\n",
       "      <td>0.0308</td>\n",
       "      <td>-0.0015</td>\n",
       "    </tr>\n",
       "    <tr>\n",
       "      <td>2018-04</td>\n",
       "      <td>-0.0062</td>\n",
       "      <td>0.0366</td>\n",
       "      <td>0.1030</td>\n",
       "      <td>-0.0339</td>\n",
       "    </tr>\n",
       "    <tr>\n",
       "      <td>2018-05</td>\n",
       "      <td>-0.0061</td>\n",
       "      <td>0.0562</td>\n",
       "      <td>0.0343</td>\n",
       "      <td>0.0308</td>\n",
       "    </tr>\n",
       "    <tr>\n",
       "      <td>2018-06</td>\n",
       "      <td>0.0218</td>\n",
       "      <td>-0.0514</td>\n",
       "      <td>0.0052</td>\n",
       "      <td>-0.0178</td>\n",
       "    </tr>\n",
       "    <tr>\n",
       "      <td>2018-07</td>\n",
       "      <td>-0.0417</td>\n",
       "      <td>0.0424</td>\n",
       "      <td>0.0104</td>\n",
       "      <td>-0.0224</td>\n",
       "    </tr>\n",
       "    <tr>\n",
       "      <td>2018-08</td>\n",
       "      <td>-0.0447</td>\n",
       "      <td>-0.0323</td>\n",
       "      <td>-0.0295</td>\n",
       "      <td>-0.1075</td>\n",
       "    </tr>\n",
       "    <tr>\n",
       "      <td>2018-09</td>\n",
       "      <td>-0.0221</td>\n",
       "      <td>-0.0067</td>\n",
       "      <td>0.0356</td>\n",
       "      <td>-0.0173</td>\n",
       "    </tr>\n",
       "    <tr>\n",
       "      <td>2018-10</td>\n",
       "      <td>-0.0666</td>\n",
       "      <td>-0.1161</td>\n",
       "      <td>-0.1206</td>\n",
       "      <td>-0.1032</td>\n",
       "    </tr>\n",
       "    <tr>\n",
       "      <td>2018-11</td>\n",
       "      <td>0.0325</td>\n",
       "      <td>-0.0300</td>\n",
       "      <td>-0.0233</td>\n",
       "      <td>-0.0095</td>\n",
       "    </tr>\n",
       "    <tr>\n",
       "      <td>2018-12</td>\n",
       "      <td>-0.1535</td>\n",
       "      <td>-0.1478</td>\n",
       "      <td>-0.1325</td>\n",
       "      <td>-0.0706</td>\n",
       "    </tr>\n",
       "  </tbody>\n",
       "</table>\n",
       "</div>"
      ],
      "text/plain": [
       "          Books   Steel     Oil   Mines\n",
       "2018-01  0.0449  0.0361  0.0286  0.0357\n",
       "2018-02 -0.0325 -0.0199 -0.1102 -0.0335\n",
       "2018-03  0.0031 -0.0586  0.0308 -0.0015\n",
       "2018-04 -0.0062  0.0366  0.1030 -0.0339\n",
       "2018-05 -0.0061  0.0562  0.0343  0.0308\n",
       "2018-06  0.0218 -0.0514  0.0052 -0.0178\n",
       "2018-07 -0.0417  0.0424  0.0104 -0.0224\n",
       "2018-08 -0.0447 -0.0323 -0.0295 -0.1075\n",
       "2018-09 -0.0221 -0.0067  0.0356 -0.0173\n",
       "2018-10 -0.0666 -0.1161 -0.1206 -0.1032\n",
       "2018-11  0.0325 -0.0300 -0.0233 -0.0095\n",
       "2018-12 -0.1535 -0.1478 -0.1325 -0.0706"
      ]
     },
     "execution_count": 68,
     "metadata": {},
     "output_type": "execute_result"
    }
   ],
   "source": [
    "ind_18 = data.get_ind30_vw_returns()[\"2018\"][l]\n",
    "ind_18"
   ]
  },
  {
   "cell_type": "code",
   "execution_count": 69,
   "metadata": {},
   "outputs": [
    {
     "data": {
      "text/html": [
       "<div>\n",
       "<style scoped>\n",
       "    .dataframe tbody tr th:only-of-type {\n",
       "        vertical-align: middle;\n",
       "    }\n",
       "\n",
       "    .dataframe tbody tr th {\n",
       "        vertical-align: top;\n",
       "    }\n",
       "\n",
       "    .dataframe thead th {\n",
       "        text-align: right;\n",
       "    }\n",
       "</style>\n",
       "<table border=\"1\" class=\"dataframe\">\n",
       "  <thead>\n",
       "    <tr style=\"text-align: right;\">\n",
       "      <th></th>\n",
       "      <th>Books</th>\n",
       "      <th>Steel</th>\n",
       "      <th>Oil</th>\n",
       "      <th>Mines</th>\n",
       "    </tr>\n",
       "  </thead>\n",
       "  <tbody>\n",
       "    <tr>\n",
       "      <td>Books</td>\n",
       "      <td>0.002799</td>\n",
       "      <td>0.002098</td>\n",
       "      <td>0.002558</td>\n",
       "      <td>0.001629</td>\n",
       "    </tr>\n",
       "    <tr>\n",
       "      <td>Steel</td>\n",
       "      <td>0.002098</td>\n",
       "      <td>0.004027</td>\n",
       "      <td>0.003473</td>\n",
       "      <td>0.001843</td>\n",
       "    </tr>\n",
       "    <tr>\n",
       "      <td>Oil</td>\n",
       "      <td>0.002558</td>\n",
       "      <td>0.003473</td>\n",
       "      <td>0.005296</td>\n",
       "      <td>0.001961</td>\n",
       "    </tr>\n",
       "    <tr>\n",
       "      <td>Mines</td>\n",
       "      <td>0.001629</td>\n",
       "      <td>0.001843</td>\n",
       "      <td>0.001961</td>\n",
       "      <td>0.002059</td>\n",
       "    </tr>\n",
       "  </tbody>\n",
       "</table>\n",
       "</div>"
      ],
      "text/plain": [
       "          Books     Steel       Oil     Mines\n",
       "Books  0.002799  0.002098  0.002558  0.001629\n",
       "Steel  0.002098  0.004027  0.003473  0.001843\n",
       "Oil    0.002558  0.003473  0.005296  0.001961\n",
       "Mines  0.001629  0.001843  0.001961  0.002059"
      ]
     },
     "execution_count": 69,
     "metadata": {},
     "output_type": "execute_result"
    }
   ],
   "source": [
    "ind_18_cov = ind_18.cov()\n",
    "ind_18_cov"
   ]
  },
  {
   "cell_type": "code",
   "execution_count": 81,
   "metadata": {},
   "outputs": [
    {
     "data": {
      "text/plain": [
       "0.21983988181484185"
      ]
     },
     "execution_count": 81,
     "metadata": {},
     "output_type": "execute_result"
    }
   ],
   "source": [
    "# 11. What would be the annualized volatility over 2018 using the weights of the MSR portfolio?\n",
    "\n",
    "# Steel was the only asset that didn't have a non-0 weighting, however I want to test the multiplication\n",
    "vol_steel = risk.annualise_vol(ind_18['Steel'])\n",
    "vol_steel"
   ]
  },
  {
   "cell_type": "code",
   "execution_count": 82,
   "metadata": {},
   "outputs": [
    {
     "data": {
      "text/plain": [
       "0.21983988181484188"
      ]
     },
     "execution_count": 82,
     "metadata": {},
     "output_type": "execute_result"
    }
   ],
   "source": [
    "weights_msr = portfolio.msrp(risk_free, er[l], cov.loc[l,l])\n",
    "returns = risk.annualise_rets(ind_18)\n",
    "#portfolio.returns(weights_msr, returns)\n",
    "#portfolio.volatility(weights_msr, ind_18_cov) <- Annualize = 0.06346230747220724\n",
    "ans = portfolio.volatility(weights_msr, ind_18_cov) * (12 ** 0.5)\n",
    "ans"
   ]
  },
  {
   "cell_type": "code",
   "execution_count": 83,
   "metadata": {},
   "outputs": [
    {
     "data": {
      "text/plain": [
       "0.15269232284490572"
      ]
     },
     "execution_count": 83,
     "metadata": {},
     "output_type": "execute_result"
    }
   ],
   "source": [
    "# 12. What would be the annualized volatility over 2018 using the weights of the GMV portfolio? \n",
    "weights_gmv = portfolio.gmv(ind_18_cov)\n",
    "ans = portfolio.volatility(weights_gmv, ind_18_cov) * (12 ** 0.5)\n",
    "ans"
   ]
  },
  {
   "cell_type": "code",
   "execution_count": null,
   "metadata": {},
   "outputs": [],
   "source": []
  }
 ],
 "metadata": {
  "kernelspec": {
   "display_name": "Python 3",
   "language": "python",
   "name": "python3"
  },
  "language_info": {
   "codemirror_mode": {
    "name": "ipython",
    "version": 3
   },
   "file_extension": ".py",
   "mimetype": "text/x-python",
   "name": "python",
   "nbconvert_exporter": "python",
   "pygments_lexer": "ipython3",
   "version": "3.7.4"
  }
 },
 "nbformat": 4,
 "nbformat_minor": 4
}
