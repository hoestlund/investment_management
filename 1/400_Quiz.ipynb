{
 "cells": [
  {
   "cell_type": "code",
   "execution_count": 1,
   "metadata": {},
   "outputs": [],
   "source": [
    "# Quiz 4\n",
    "%load_ext autoreload\n",
    "%autoreload 2\n",
    "%matplotlib inline\n",
    "from my_modules import risk\n",
    "from my_modules import portfolio\n",
    "from my_modules import model\n",
    "from my_modules import data\n",
    "\n",
    "import numpy as np\n",
    "import pandas as pd"
   ]
  },
  {
   "cell_type": "markdown",
   "metadata": {},
   "source": [
    "We will be working with three bonds:\n",
    "\n",
    "B1 is a 15 Year Bond with a Face Value of $1000 that pays a 5% coupon semi-annually (2 times a year)\n",
    "\n",
    "B2 is a 5 Year Bond with a Face value of $1000 that pays a 6% coupon quarterly (4 times a year)\n",
    "\n",
    "B3 is a 10 Year Zero-Coupon Bond with a Face Value of $1000\n",
    "\n",
    "Assume the yield curve is flat at 5%."
   ]
  },
  {
   "cell_type": "code",
   "execution_count": 2,
   "metadata": {},
   "outputs": [],
   "source": [
    "b1 = portfolio.bond_price(12,1000,.05,2,.05)\n",
    "b2 = portfolio.bond_price(5,1000,.06,4,.05)\n",
    "b3 = portfolio.bond_price(10,1000,0,1,.05)"
   ]
  },
  {
   "cell_type": "markdown",
   "metadata": {},
   "source": [
    "1. Which of the three bonds is the most expensive?\n",
    " * B2"
   ]
  },
  {
   "cell_type": "code",
   "execution_count": 11,
   "metadata": {},
   "outputs": [
    {
     "name": "stdout",
     "output_type": "stream",
     "text": [
      "b1: 1000.0000000000016\n",
      "b2: 1043.998290335565\n",
      "b3: 613.9132535407591\n"
     ]
    }
   ],
   "source": [
    "print (\"b1: \" + str(b1[0]))\n",
    "print (\"b2: \" + str(b2[0]))\n",
    "print (\"b3: \" + str(b3[0]))"
   ]
  },
  {
   "cell_type": "markdown",
   "metadata": {},
   "source": [
    "2. Which of the three bonds is the least expensive?\n",
    " * B3"
   ]
  },
  {
   "cell_type": "markdown",
   "metadata": {},
   "source": [
    "3. What is the price of the 10 Year Zero Coupon Bond B3?\n",
    " * 614"
   ]
  },
  {
   "cell_type": "markdown",
   "metadata": {},
   "source": [
    "4. Which of the three bonds has the highest (Macaulay) Duration?\n",
    "n.b. macaulay_duration function gives as output the duration expressed in periods and not in years. If you want to get the yearly duration you need to divide the duration for coupons_per_year;\n",
    " * Had difficulties because of not specifying index but guessed the hight/low"
   ]
  },
  {
   "cell_type": "code",
   "execution_count": 91,
   "metadata": {},
   "outputs": [
    {
     "name": "stdout",
     "output_type": "stream",
     "text": [
      "Duration 1: 9.17\n",
      "Duration 2: 4.37\n",
      "Duration 3: 10.0\n"
     ]
    }
   ],
   "source": [
    "b1_cashflow = portfolio.bond_cash_flows(12,1000,.05,2)\n",
    "b2_cashflow = portfolio.bond_cash_flows(5,1000,.06,4)\n",
    "b3_cashflow = portfolio.bond_cash_flows(10,1000,0,1)\n",
    "\n",
    "duration_b1 = portfolio.macaulay_duration(b1_cashflow, 0.05/2)/2\n",
    "duration_b2 = portfolio.macaulay_duration(b2_cashflow, 0.05/4)/4\n",
    "duration_b3 = portfolio.macaulay_duration(b3_cashflow, 0.05/1)/1\n",
    "\n",
    "print(\"Duration 1: \" + str(duration_b1.round(2)))\n",
    "print(\"Duration 2: \" + str(duration_b2.round(2)))\n",
    "print(\"Duration 3: \" + str(duration_b3.round(2))) # wrong as longest, should be 1"
   ]
  },
  {
   "cell_type": "markdown",
   "metadata": {},
   "source": [
    "5. Which of the three bonds has the lowest (Macaulay) Duration?"
   ]
  },
  {
   "cell_type": "markdown",
   "metadata": {},
   "source": [
    "6. What is the duration of the 5 year bond B2"
   ]
  },
  {
   "cell_type": "markdown",
   "metadata": {},
   "source": [
    "7. Assume a sequence of 3 liabilities of 100,000, 200,000 and 300,000 that are 3, 5 and 10 years away, respectively. What is the Duration of the liabilities?"
   ]
  },
  {
   "cell_type": "code",
   "execution_count": 90,
   "metadata": {},
   "outputs": [
    {
     "data": {
      "text/plain": [
       "6.750917852744651"
      ]
     },
     "execution_count": 90,
     "metadata": {},
     "output_type": "execute_result"
    }
   ],
   "source": [
    "liabilities = pd.Series(data=[100_000, 200_000, 300_000], index=[3,5,10])\n",
    "portfolio.macaulay_duration(liabilities, 0.05)"
   ]
  },
  {
   "cell_type": "markdown",
   "metadata": {},
   "source": [
    "8. Assuming the same set of liabilities as the previous question, build a Duration Matched Portfolio of B1 and B2 to match these liabilities. What is the weight of B2 in the portfolio? (Hint: the code we developed in class erk.match_durations() assumes that all the bonds have the same number of coupons per year. This is not the case here, so you will either need to enhance the code or compute the weight directly e.g. by entering the steps in a Jupyter Notebook Cell or at the Python Command Line)\n",
    "\n",
    "..skipping"
   ]
  },
  {
   "cell_type": "markdown",
   "metadata": {},
   "source": [
    "9. Assume you can use any of the bonds B1, B2 and B3 to build a duration matched bond portfolio matched to the liabilities. Which combination of 2 bonds can you NOT use to build a duration matched bond portfolio?\n",
    " * B1 and B3 -> over 10 years (unless all b1)"
   ]
  },
  {
   "cell_type": "markdown",
   "metadata": {},
   "source": [
    "10. Assuming the same liabilities as the previous questions , build a Duration Matched Portfolio of B2 and B3 to match the liabilities."
   ]
  },
  {
   "cell_type": "code",
   "execution_count": null,
   "metadata": {},
   "outputs": [],
   "source": []
  }
 ],
 "metadata": {
  "kernelspec": {
   "display_name": "Python 3",
   "language": "python",
   "name": "python3"
  },
  "language_info": {
   "codemirror_mode": {
    "name": "ipython",
    "version": 3
   },
   "file_extension": ".py",
   "mimetype": "text/x-python",
   "name": "python",
   "nbconvert_exporter": "python",
   "pygments_lexer": "ipython3",
   "version": "3.8.3"
  }
 },
 "nbformat": 4,
 "nbformat_minor": 4
}
