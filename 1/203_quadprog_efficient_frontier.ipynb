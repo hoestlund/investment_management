{
 "cells": [
  {
   "cell_type": "code",
   "execution_count": 1,
   "metadata": {},
   "outputs": [],
   "source": [
    "%load_ext autoreload\n",
    "%autoreload 2\n",
    "%matplotlib inline\n",
    "import my_modules.data as data\n",
    "import my_modules.risk as risk\n",
    "\n",
    "ind = data.get_ind30_vw_returns()\n",
    "er = risk.annualise_rets(ind['1996':'2000'])\n",
    "cov = ind['1996':'2000'].cov()"
   ]
  },
  {
   "cell_type": "markdown",
   "metadata": {},
   "source": [
    "# N-Asset Efficient Frontier"
   ]
  },
  {
   "cell_type": "markdown",
   "metadata": {},
   "source": [
    "_The only thing that needs to be adjusted compared to the two asset is the weighting_\n",
    "\n",
    "```python\n",
    "def plot_two_asset_frontier(num_points, ex_return, cov):\n",
    "  \"\"\"\n",
    "  Plots the efficient frontier for a two asset mix\n",
    "  \"\"\"\n",
    "  weights = ??? # minimize_vol(targe_return)\n",
    "  ret = [returns(w, ex_return) for w in weights]\n",
    "  vol = [volatility(w, cov) for w in weights]\n",
    "  frontier = pd.DataFrame({\n",
    "    'Returns':ret,\n",
    "    'Volatility':vol\n",
    "  })\n",
    "  return frontier.plot.line(x='Volatility', y='Returns', style='.-')\n"
   ]
  },
  {
   "cell_type": "code",
   "execution_count": 6,
   "metadata": {},
   "outputs": [],
   "source": [
    "from scipy.optimize import minimize\n",
    "from my_modules import portfolio\n",
    "import numpy as np"
   ]
  },
  {
   "cell_type": "code",
   "execution_count": 5,
   "metadata": {},
   "outputs": [
    {
     "data": {
      "text/plain": [
       "<matplotlib.axes._subplots.AxesSubplot at 0x1a1df33350>"
      ]
     },
     "execution_count": 5,
     "metadata": {},
     "output_type": "execute_result"
    },
    {
     "data": {
      "image/png": "[encoded data removed]",
      "text/plain": [
       "<Figure size 432x288 with 1 Axes>"
      ]
     },
     "metadata": {
      "needs_background": "light"
     },
     "output_type": "display_data"
    }
   ],
   "source": [
    "l=['Games', 'Fin']\n",
    "portfolio.plot_two_asset_frontier(20, er[l], cov.loc[l,l])"
   ]
  },
  {
   "cell_type": "code",
   "execution_count": 25,
   "metadata": {},
   "outputs": [],
   "source": [
    " # How can I figure out the weight of the portfolio to give a certain return with the lowest volatility\n",
    "# Applying this to all the weight vectors will give us the curve\n",
    "def minimise_vol(target_return, er, cov):\n",
    "    \"\"\"\n",
    "    target_return -> weight vector (W)\n",
    "    \"\"\"\n",
    "    num_assets = er.shape[0]\n",
    "    init_guess = np.repeat(1/num_assets, num_assets)\n",
    "    \n",
    "    # Constraint 1:\n",
    "    # need a sequence of bounds for every weight vector\n",
    "    # it is constrained to not use leverage or go short\n",
    "    bounds = ((0.0, 1.0),) * num_assets # n tuples of a tuple\n",
    "    \n",
    "    # Constraint 2:\n",
    "    # The portfolio for the target_return should have the lowest volatility\n",
    "    return_is_target = {\n",
    "        'type': 'eq', #equality\n",
    "        'args': (er,),\n",
    "        'fun': lambda weights, er: target_return - portfolio.returns(weights,er)\n",
    "    }\n",
    "    \n",
    "    # Constraint 3:\n",
    "    # The weights sum to 1\n",
    "    weight_sum_1 = {\n",
    "        'type': 'eq',\n",
    "        'fun': lambda weights: np.sum(weights) - 1\n",
    "    }\n",
    "    \n",
    "    results = minimize(portfolio.volatility, init_guess,\n",
    "                      args=(cov,), method='SLSQP',\n",
    "                      options={'disp': False},\n",
    "                       constraints=(return_is_target, weight_sum_1),\n",
    "                       bounds=bounds\n",
    "                      )\n",
    "    return results.x\n",
    "    "
   ]
  },
  {
   "cell_type": "code",
   "execution_count": 27,
   "metadata": {},
   "outputs": [
    {
     "data": {
      "text/plain": [
       "0.056163669406706564"
      ]
     },
     "execution_count": 27,
     "metadata": {},
     "output_type": "execute_result"
    }
   ],
   "source": [
    "# Weighting for point in the graph touching y axis\n",
    "w_15 = minimise_vol(0.15, er[l], cov.loc[l,l])\n",
    "\n",
    "# Should be around 0.056\n",
    "vol_15 = portfolio.volatility(w_15,cov.loc[l,l])\n",
    "vol_15"
   ]
  },
  {
   "cell_type": "code",
   "execution_count": 30,
   "metadata": {},
   "outputs": [
    {
     "data": {
      "text/plain": [
       "0.056163669406706564"
      ]
     },
     "execution_count": 30,
     "metadata": {},
     "output_type": "execute_result"
    }
   ],
   "source": [
    "w_15 = portfolio.minimise_vol(0.15, er[l], cov.loc[l,l])\n",
    "\n",
    "vol_15 = portfolio.volatility(w_15, cov.loc[l,l])\n",
    "vol_15"
   ]
  },
  {
   "cell_type": "markdown",
   "metadata": {},
   "source": [
    "### Now to plot it...\n",
    "```python\n",
    "def plot_two_asset_frontier(num_points, ex_return, cov):\n",
    "  \"\"\"\n",
    "  Plots the efficient frontier for a two asset mix\n",
    "  \"\"\"\n",
    "  if ex_return.shape[0] != 2 or cov.shape[0] != 2:\n",
    "    raise ValueError('Only two assets can be used')\n",
    "    \n",
    "  weights = # replace with our optimal weights in form optiomal_weights(n_points, er, cov)\n",
    "  ret = [returns(w, ex_return) for w in weights]\n",
    "  vol = [volatility(w, cov) for w in weights]\n",
    "  frontier = pd.DataFrame({\n",
    "    'Returns':ret,\n",
    "    'Volatility':vol\n",
    "  })\n",
    "  return frontier.plot.line(x='Volatility', y='Returns', style='.-')\n"
   ]
  },
  {
   "cell_type": "code",
   "execution_count": 41,
   "metadata": {},
   "outputs": [],
   "source": [
    "import pandas as pd\n",
    "\n",
    "def optimal_weights(n_points, ex_return, cov):\n",
    "    # need to generate a list of target returns to send to optimiser\n",
    "    target_rs = np.linspace(ex_return.min(), ex_return.max())\n",
    "    weights = [portfolio.minimise_vol(target_rt, ex_return, cov) for target_rt in target_rs]\n",
    "    return weights\n",
    "\n",
    "def plot_n_asset_frontier(num_points, ex_return, cov):\n",
    "  \"\"\"\n",
    "  Plots the efficient frontier for an n asset mix\n",
    "  \"\"\"\n",
    "  weights = optimal_weights(num_points, ex_return, cov)\n",
    "  rets = [portfolio.returns(w, ex_return) for w in weights]\n",
    "  vol = [portfolio.volatility(w, cov) for w in weights]\n",
    "  frontier = pd.DataFrame({\n",
    "    'Returns':rets,\n",
    "    'Volatility':vol\n",
    "  })\n",
    "  return frontier.plot.line(x='Volatility', y='Returns', style='.-')"
   ]
  },
  {
   "cell_type": "code",
   "execution_count": 42,
   "metadata": {},
   "outputs": [
    {
     "data": {
      "text/plain": [
       "<matplotlib.axes._subplots.AxesSubplot at 0x1a1f289fd0>"
      ]
     },
     "execution_count": 42,
     "metadata": {},
     "output_type": "execute_result"
    },
    {
     "data": {
      "image/png": "[encoded data removed]",
      "text/plain": [
       "<Figure size 432x288 with 1 Axes>"
      ]
     },
     "metadata": {
      "needs_background": "light"
     },
     "output_type": "display_data"
    }
   ],
   "source": [
    "l=['Smoke', 'Fin', 'Games', 'Coal']\n",
    "plot_n_asset_frontier(25, er[l], cov.loc[l,l])"
   ]
  },
  {
   "cell_type": "code",
   "execution_count": 44,
   "metadata": {},
   "outputs": [
    {
     "data": {
      "text/plain": [
       "<matplotlib.axes._subplots.AxesSubplot at 0x1a1fc52450>"
      ]
     },
     "execution_count": 44,
     "metadata": {},
     "output_type": "execute_result"
    },
    {
     "data": {
      "image/png": "[encoded data removed]",
      "text/plain": [
       "<Figure size 432x288 with 1 Axes>"
      ]
     },
     "metadata": {
      "needs_background": "light"
     },
     "output_type": "display_data"
    }
   ],
   "source": [
    "portfolio.plot_n_asset_frontier(25, er[l], cov.loc[l,l])"
   ]
  },
  {
   "cell_type": "code",
   "execution_count": 45,
   "metadata": {},
   "outputs": [
    {
     "data": {
      "text/plain": [
       "['Smoke', 'Fin', 'Games', 'Coal']"
      ]
     },
     "execution_count": 45,
     "metadata": {},
     "output_type": "execute_result"
    }
   ],
   "source": [
    "l"
   ]
  },
  {
   "cell_type": "code",
   "execution_count": 46,
   "metadata": {},
   "outputs": [
    {
     "data": {
      "text/plain": [
       "array([0.24152012, 0.27457601, 0.39842497, 0.0854789 ])"
      ]
     },
     "execution_count": 46,
     "metadata": {},
     "output_type": "execute_result"
    }
   ],
   "source": [
    "mix_15 = portfolio.minimise_vol(0.15, er[l], cov.loc[l,l])\n",
    "mix_15"
   ]
  },
  {
   "cell_type": "code",
   "execution_count": 47,
   "metadata": {},
   "outputs": [
    {
     "data": {
      "text/plain": [
       "array([0.25910954, 0.16006663, 0.53266225, 0.04816157])"
      ]
     },
     "execution_count": 47,
     "metadata": {},
     "output_type": "execute_result"
    }
   ],
   "source": [
    "mix_12 = portfolio.minimise_vol(0.12, er[l], cov.loc[l,l])\n",
    "mix_12"
   ]
  },
  {
   "cell_type": "code",
   "execution_count": 59,
   "metadata": {},
   "outputs": [
    {
     "data": {
      "text/plain": [
       "'1111'"
      ]
     },
     "execution_count": 59,
     "metadata": {},
     "output_type": "execute_result"
    }
   ],
   "source": [
    "import matplotlib.pyplot as plt\n",
    "n = len(l)\n",
    "\n",
    "x_axis = np.arrange(n)\n",
    "width = 0.3\n",
    "\n",
    "# TODO adapt answer from https://stackoverflow.com/questions/14270391/python-matplotlib-multiple-bars \n",
    "# to show the % of the porfolio in each asset at a given return level with min vol\n",
    "fig = plt.figure()\n",
    "\n",
    "dist = '1' * n\n",
    "ax = fig.add_subplot(111)\n",
    "\n",
    "yvals = [4, 9, 2]\n",
    "rects1 = ax.bar(ind, yvals, width, color='r')\n",
    "zvals = [1,2,3]\n",
    "rects2 = ax.bar(ind+width, zvals, width, color='g')\n",
    "kvals = [11,12,13]\n",
    "rects3 = ax.bar(ind+width*2, kvals, width, color='b')\n",
    "\n",
    "ax.set_ylabel('Scores')\n",
    "ax.set_xticks(ind+width)\n",
    "ax.set_xticklabels( ('2011-Jan-4', '2011-Jan-5', '2011-Jan-6') )\n",
    "ax.legend( (rects1[0], rects2[0], rects3[0]), ('y', 'z', 'k') )\n",
    "\n",
    "def autolabel(rects):\n",
    "    for rect in rects:\n",
    "        h = rect.get_height()\n",
    "        ax.text(rect.get_x()+rect.get_width()/2., 1.05*h, '%d'%int(h),\n",
    "                ha='center', va='bottom')\n",
    "\n",
    "autolabel(rects1)\n",
    "autolabel(rects2)\n",
    "autolabel(rects3)\n",
    "\n",
    "plt.show()\n",
    "ax = plt.subplot(dist)"
   ]
  },
  {
   "cell_type": "code",
   "execution_count": null,
   "metadata": {},
   "outputs": [],
   "source": []
  }
 ],
 "metadata": {
  "kernelspec": {
   "display_name": "Python 3",
   "language": "python",
   "name": "python3"
  },
  "language_info": {
   "codemirror_mode": {
    "name": "ipython",
    "version": 3
   },
   "file_extension": ".py",
   "mimetype": "text/x-python",
   "name": "python",
   "nbconvert_exporter": "python",
   "pygments_lexer": "ipython3",
   "version": "3.7.4"
  }
 },
 "nbformat": 4,
 "nbformat_minor": 4
}
