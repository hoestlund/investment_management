{
 "cells": [
  {
   "cell_type": "code",
   "execution_count": 1,
   "metadata": {},
   "outputs": [],
   "source": [
    "%load_ext autoreload\n",
    "%autoreload 2\n",
    "%matplotlib inline\n",
    "from my_modules import risk\n",
    "from my_modules import data\n",
    "from my_modules import portfolio\n",
    "from my_modules import index\n",
    "from my_modules import model\n",
    "\n",
    "import numpy as np\n",
    "import pandas as pd\n",
    "import ipywidgets as widgets\n",
    "from IPython.display import display"
   ]
  },
  {
   "cell_type": "markdown",
   "metadata": {},
   "source": [
    "## Week 3 Quiz"
   ]
  },
  {
   "cell_type": "code",
   "execution_count": 3,
   "metadata": {},
   "outputs": [
    {
     "data": {
      "application/vnd.jupyter.widget-view+json": {
       "model_id": "ea6005812bbe4a40be6297b779d059cd",
       "version_major": 2,
       "version_minor": 0
      },
      "text/plain": [
       "interactive(children=(IntSlider(value=50, description='n_scenarios', max=1000, min=1, step=5), FloatSlider(val…"
      ]
     },
     "metadata": {},
     "output_type": "display_data"
    }
   ],
   "source": [
    "import matplotlib.pyplot as plt\n",
    "def show_cppi(n_scenarios=50, mu=0.07, sigma=0.15, m=3, floor=0., riskfree_rate=0.03, y_max=100):\n",
    "    \"\"\"\n",
    "    Plot the results of a Monte Carlo Simulation of CPPI\n",
    "    \"\"\"\n",
    "    start = 100\n",
    "    sim_rets = model.gbm(n_scenarios=n_scenarios, mu=mu, sigma=sigma, prices=False, steps_per_year=12)\n",
    "    risky_r = pd.DataFrame(sim_rets)\n",
    "    # run the \"back\"-test\n",
    "    btr = portfolio.cppi(risky_r=pd.DataFrame(risky_r),riskfree_rate=riskfree_rate,m=m, start_value=start, floor=floor)\n",
    "    wealth = btr[\"Wealth\"]\n",
    "    y_max=wealth.values.max()*y_max/100\n",
    "    terminal_wealth = wealth.iloc[-1]\n",
    "    \n",
    "    tw_mean = terminal_wealth.mean()\n",
    "    tw_median = terminal_wealth.median()\n",
    "    failure_mask = np.less(terminal_wealth, start*floor)\n",
    "    n_failures = failure_mask.sum()\n",
    "    p_fail = n_failures/n_scenarios\n",
    "    \n",
    "    # When there is a failure, what is the average failure extent\n",
    "    e_shortfall = np.dot(terminal_wealth-start*floor, failure_mask)/n_failures if n_failures > 0 else 0.0\n",
    "    #Plot\n",
    "    fig,(wealth_ax, hist_ax) = plt.subplots(nrows=1, ncols=2, sharey=True, gridspec_kw={'width_ratios':[3,2]}, figsize=(24,9))\n",
    "    plt.subplots_adjust(wspace=0.0)\n",
    "    \n",
    "    wealth.plot(ax=wealth_ax, legend=False, alpha=0.3, color='indianred')\n",
    "    wealth_ax.axhline(y=start, ls=':',color='black')\n",
    "    wealth_ax.axhline()\n",
    "    wealth_ax.set_ylim(top=y_max)\n",
    "    \n",
    "    terminal_wealth.plot.hist(ax=hist_ax, bins=50,ec='w',fc='indianred', orientation='horizontal')\n",
    "    hist_ax.axhline(y=start, ls=':',color='black')\n",
    "    hist_ax.annotate(f'Mean: ${int(tw_mean)}', xy=(.7,.9), xycoords='axes fraction',fontsize=24)\n",
    "    hist_ax.annotate(f'Median: ${int(tw_median)}', xy=(.7,.85), xycoords='axes fraction',fontsize=24)\n",
    "    if(floor > 0.01):\n",
    "        hist_ax.axhline(y=start*floor, ls='--',color='red', linewidth=3)\n",
    "        hist_ax.annotate(f'Violations: {n_failures} ({p_fail*100:2.2f}%)\\nE(Shortfall)=${e_shortfall:2.2f}', xy=(.7,.7), xycoords='axes fraction', fontsize=24)\n",
    "\n",
    "cppi_controls = widgets.interactive(show_cppi, \n",
    "                                   n_scenarios=widgets.IntSlider(min=1, max=1000, step=5, value=50), \n",
    "                                   mu=(0., +.2, .01),\n",
    "                                   sigma=(0, .40, .05),\n",
    "                                   floor=(0, 2, .1),\n",
    "                                   m=(1, 5, .5),\n",
    "                                   riskfree_rate=(0, .05, .01),\n",
    "                                   y_max=widgets.IntSlider(min=0, max=100, step=1, value=100,\n",
    "                                                           description=\"Zoom Y Axis\")\n",
    ")\n",
    "display(cppi_controls)"
   ]
  },
  {
   "cell_type": "markdown",
   "metadata": {},
   "source": [
    "## _The questions didn't need to be coded, it was intuitive questions asking about changes in violations and shortfall should different paramters change or rebalancing done more often_"
   ]
  },
  {
   "cell_type": "code",
   "execution_count": null,
   "metadata": {},
   "outputs": [],
   "source": []
  }
 ],
 "metadata": {
  "kernelspec": {
   "display_name": "Python 3",
   "language": "python",
   "name": "python3"
  },
  "language_info": {
   "codemirror_mode": {
    "name": "ipython",
    "version": 3
   },
   "file_extension": ".py",
   "mimetype": "text/x-python",
   "name": "python",
   "nbconvert_exporter": "python",
   "pygments_lexer": "ipython3",
   "version": "3.8.3"
  }
 },
 "nbformat": 4,
 "nbformat_minor": 4
}
