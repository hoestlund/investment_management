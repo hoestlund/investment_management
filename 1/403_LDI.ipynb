{
 "cells": [
  {
   "cell_type": "markdown",
   "metadata": {},
   "source": [
    "# Liability-driven Investing\n",
    "_The dominant method in modern investing_\n",
    "\n",
    "Investing has two goals, delivering performance and protecting downside which can be schizophrenic goals. Instead of building a single portfolio to address both of these goals two portfolios are created:\n",
    "* Performance-seeking portfolio (PSP)\n",
    "    * Focus on diversified, efficient access to risk premia\n",
    "* Liability-hedging portfolio (LHP)\n",
    "    * Focus on hedging impacts of risk factors in liabilities\n",
    "    \n",
    "Just as in options pricing, LDI has greeks:\n",
    "* $\\lambda_{psp}$ is the PSP Sharpe ratio: $\\lambda=0 \\Rightarrow$ no investment in PSP\n",
    "* $\\beta_{lhp}$ is the beta of liabilities with regard to LHP: $\\beta=0 \\Rightarrow$ no investment in LHP\n",
    "* $\\sigma_{psp}$ is the PSP volatility: $\\sigma=\\infty \\Rightarrow$ no investment in PSP\n",
    "* $\\gamma$ is the risk-aversion_ $\\gamma=\\infty \\Rightarrow$ no investment in PSP\n"
   ]
  },
  {
   "cell_type": "code",
   "execution_count": null,
   "metadata": {},
   "outputs": [],
   "source": []
  }
 ],
 "metadata": {
  "kernelspec": {
   "display_name": "Python 3",
   "language": "python",
   "name": "python3"
  },
  "language_info": {
   "codemirror_mode": {
    "name": "ipython",
    "version": 3
   },
   "file_extension": ".py",
   "mimetype": "text/x-python",
   "name": "python",
   "nbconvert_exporter": "python",
   "pygments_lexer": "ipython3",
   "version": "3.8.3"
  }
 },
 "nbformat": 4,
 "nbformat_minor": 4
}
