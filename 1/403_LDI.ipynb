{
 "cells": [
  {
   "cell_type": "markdown",
   "metadata": {},
   "source": [
    "# Liability-driven Investing\n",
    "_The dominant method in modern investing_\n",
    "\n",
    "Investing has two goals, delivering performance and protecting downside which can be schizophrenic goals. Instead of building a single portfolio to address both of these goals two portfolios are created:\n",
    "* Performance-seeking portfolio (PSP)\n",
    "    * Dedicated performance\n",
    "    * Focus on diversified, efficient access to risk premia\n",
    "* Liability-hedging portfolio (LHP)\n",
    "    * Dedicated hedging\n",
    "    * Focus on hedging impacts of risk factors in liabilities\n",
    "    \n",
    "Just as in options pricing, LDI has greeks:\n",
    "* $\\lambda_{psp}$ is the PSP Sharpe ratio: $\\lambda=0 \\Rightarrow$ no investment in PSP\n",
    "* $\\beta_{lhp}$ is the beta of liabilities with regard to LHP: $\\beta=0 \\Rightarrow$ no investment in LHP\n",
    "* $\\sigma_{psp}$ is the PSP volatility: $\\sigma=\\infty \\Rightarrow$ no investment in PSP\n",
    "* $\\gamma$ is the risk-aversion_ $\\gamma=\\infty \\Rightarrow$ no investment in PSP\n",
    "    * It is difficult to identify how much and for whom (manager, beneificiary..)\n",
    "\n",
    "\n",
    "_In the last notebook it was noted that it is difficult to find CZ bonds that match the given liabilities. In this notebook there will be a technique to get the advantage from a CZ bond through holding a portfolio of regular coupon-bearing bonds by doing factor/duration matching._"
   ]
  },
  {
   "cell_type": "code",
   "execution_count": 1,
   "metadata": {},
   "outputs": [],
   "source": [
    "%load_ext autoreload\n",
    "%autoreload 2\n",
    "%matplotlib inline\n",
    "from my_modules import risk\n",
    "from my_modules import portfolio\n",
    "from my_modules import model\n",
    "\n",
    "import numpy as np\n",
    "import pandas as pd"
   ]
  },
  {
   "cell_type": "markdown",
   "metadata": {},
   "source": [
    "## GHP Construction with Duration Matching"
   ]
  },
  {
   "cell_type": "code",
   "execution_count": 5,
   "metadata": {},
   "outputs": [],
   "source": [
    "def bond_cash_flows(maturity, principal=100, coupon_rate=0.03, coupons_pa=12):\n",
    "    \"\"\"\n",
    "    Returns as series of cash flows from the bond, indexed by the coupon number\n",
    "    \"\"\"\n",
    "    n_coupons = round(maturity*coupons_pa)\n",
    "    coupon_amount = principal * coupon_rate/coupons_pa\n",
    "    coupon_times = np.arange(1, n_coupons + 1)\n",
    "    cash_flows = pd.Series(data=coupon_amount, index=coupon_times)\n",
    "    cash_flows.iloc[-1] += principal #The final coupon payment will also return principal\n",
    "    return cash_flows"
   ]
  },
  {
   "cell_type": "code",
   "execution_count": 8,
   "metadata": {},
   "outputs": [],
   "source": [
    "def bond_price(maturity, principal=100, coupon_rate=0.03, coupons_pa=12, discount_rate=0.03):\n",
    "    \"\"\"\n",
    "    Returns the price of a bond based on its maturity, coupon rate, and coupons per years as well as a \n",
    "    discount rate\n",
    "    \"\"\"\n",
    "    cash_flows = bond_cash_flows(maturity, principal, coupon_rate, coupons_pa)\n",
    "    return portfolio.pv(cash_flows, discount_rate/coupons_pa) #discount rate per period"
   ]
  },
  {
   "cell_type": "code",
   "execution_count": 6,
   "metadata": {},
   "outputs": [
    {
     "data": {
      "text/plain": [
       "1      1.5\n",
       "2      1.5\n",
       "3      1.5\n",
       "4      1.5\n",
       "5      1.5\n",
       "6    101.5\n",
       "dtype: float64"
      ]
     },
     "execution_count": 6,
     "metadata": {},
     "output_type": "execute_result"
    }
   ],
   "source": [
    "bond_cash_flows(3, 100, 0.03, 2)"
   ]
  },
  {
   "cell_type": "code",
   "execution_count": 10,
   "metadata": {},
   "outputs": [
    {
     "data": {
      "text/plain": [
       "1136.7773962036904"
      ]
     },
     "execution_count": 10,
     "metadata": {},
     "output_type": "execute_result"
    }
   ],
   "source": [
    "bond_price(20, 1000, 0.05, 2, 0.04) #Is at a premium because the coupon is higher than the interest rate (discount)"
   ]
  },
  {
   "cell_type": "code",
   "execution_count": 11,
   "metadata": {},
   "outputs": [
    {
     "data": {
      "text/plain": [
       "1000.0000000000023"
      ]
     },
     "execution_count": 11,
     "metadata": {},
     "output_type": "execute_result"
    }
   ],
   "source": [
    "bond_price(20, 1000, 0.05, 2, 0.05)"
   ]
  },
  {
   "cell_type": "code",
   "execution_count": 16,
   "metadata": {},
   "outputs": [
    {
     "data": {
      "text/plain": [
       "<matplotlib.axes._subplots.AxesSubplot at 0x11f56e8b0>"
      ]
     },
     "execution_count": 16,
     "metadata": {},
     "output_type": "execute_result"
    },
    {
     "data": {
      "image/png": "[encoded data removed]",
      "text/plain": [
       "<Figure size 1080x432 with 1 Axes>"
      ]
     },
     "metadata": {
      "needs_background": "light"
     },
     "output_type": "display_data"
    }
   ],
   "source": [
    "rates = np.linspace(0.01, .1, num=20)\n",
    "prices = [bond_price(10,1000,0.05,2,rate) for rate in rates]\n",
    "pd.DataFrame(data=prices, index=rates).plot(title=\"Price of 10Y Bond with different interest rates\", legend=False, figsize=(15,6))"
   ]
  },
  {
   "cell_type": "markdown",
   "metadata": {},
   "source": [
    "_Try to construct a portfolio of bonds that have a resiliance to interest rates_\n",
    "* A ZC bond is simpler as the interest rates in the middle do not matter"
   ]
  },
  {
   "cell_type": "code",
   "execution_count": 17,
   "metadata": {},
   "outputs": [
    {
     "data": {
      "text/plain": [
       "1      30.0\n",
       "2      30.0\n",
       "3      30.0\n",
       "4      30.0\n",
       "5      30.0\n",
       "6    1030.0\n",
       "dtype: float64"
      ]
     },
     "execution_count": 17,
     "metadata": {},
     "output_type": "execute_result"
    }
   ],
   "source": [
    "cash_flows = bond_cash_flows(3, 1000, 0.06, 2)\n",
    "cash_flows"
   ]
  },
  {
   "cell_type": "code",
   "execution_count": 18,
   "metadata": {},
   "outputs": [],
   "source": [
    "# The present value of the coupons need to be taken\n",
    "discounts = portfolio.discount(cash_flows.index, 0.06/2)"
   ]
  },
  {
   "cell_type": "code",
   "execution_count": 19,
   "metadata": {},
   "outputs": [
    {
     "data": {
      "text/plain": [
       "Float64Index([ 0.970873786407767, 0.9425959091337544, 0.9151416593531595,\n",
       "              0.8884870479156888, 0.8626087843841639, 0.8374842566836542],\n",
       "             dtype='float64')"
      ]
     },
     "execution_count": 19,
     "metadata": {},
     "output_type": "execute_result"
    }
   ],
   "source": [
    "discounts # for the first 97%, for the final 84%"
   ]
  },
  {
   "cell_type": "code",
   "execution_count": 20,
   "metadata": {},
   "outputs": [
    {
     "data": {
      "text/plain": [
       "1     29.126214\n",
       "2     28.277877\n",
       "3     27.454250\n",
       "4     26.654611\n",
       "5     25.878264\n",
       "6    862.608784\n",
       "dtype: float64"
      ]
     },
     "execution_count": 20,
     "metadata": {},
     "output_type": "execute_result"
    }
   ],
   "source": [
    "discounted_cf = discounts * cash_flows\n",
    "discounted_cf"
   ]
  },
  {
   "cell_type": "code",
   "execution_count": 21,
   "metadata": {},
   "outputs": [],
   "source": [
    "weights = discounted_cf/discounted_cf.sum()"
   ]
  },
  {
   "cell_type": "code",
   "execution_count": 22,
   "metadata": {},
   "outputs": [
    {
     "data": {
      "text/plain": [
       "1    0.029126\n",
       "2    0.028278\n",
       "3    0.027454\n",
       "4    0.026655\n",
       "5    0.025878\n",
       "6    0.862609\n",
       "dtype: float64"
      ]
     },
     "execution_count": 22,
     "metadata": {},
     "output_type": "execute_result"
    }
   ],
   "source": [
    "weights"
   ]
  },
  {
   "cell_type": "code",
   "execution_count": 25,
   "metadata": {},
   "outputs": [
    {
     "data": {
      "text/plain": [
       "5.579707187194534"
      ]
     },
     "execution_count": 25,
     "metadata": {},
     "output_type": "execute_result"
    }
   ],
   "source": [
    "# The bond maturation is in six years\n",
    "# However, the average waiting duration, weighted by the present value of each of the cash flows \n",
    "# is equal to 5.57\n",
    "# Macaulay Duration (https://www.investopedia.com/terms/m/macaulayduration.asp)\n",
    "(cash_flows.index * weights).sum()"
   ]
  },
  {
   "cell_type": "code",
   "execution_count": 26,
   "metadata": {},
   "outputs": [],
   "source": [
    "def macaulay_duration(cash_flows, discount_rate):\n",
    "    \"\"\"\n",
    "    Computes the Macaulay Duration of the bond based on the cash flows and the discount rate\n",
    "    \"\"\"\n",
    "    discounted_flows = portfolio.discount(cash_flows.index, discount_rate) * cash_flows\n",
    "    weights = discounted_flows/discounted_flows.sum()\n",
    "    return np.average(discounted_flows.index,weights=weights)"
   ]
  },
  {
   "cell_type": "code",
   "execution_count": 27,
   "metadata": {},
   "outputs": [
    {
     "data": {
      "text/plain": [
       "5.579707187194534"
      ]
     },
     "execution_count": 27,
     "metadata": {},
     "output_type": "execute_result"
    }
   ],
   "source": [
    "macaulay_duration(cash_flows, 0.06/2)"
   ]
  },
  {
   "cell_type": "markdown",
   "metadata": {},
   "source": [
    ">_If you can match the Macaulay duration of your bonds to the Macaulay duration of the liability, what do you get? Then you get two portfolios that have the same sensitivity, they change in the same way with changes in interest rate. So this isn't literally, the Macaulay duration is not exactly equal to the first derivative of the change in price but it is directly related to it. They're connected and exactly the same way. Therefore, if you can match the duration of your liabilities and the duration of your bonds that you're holding, then you're home free. Because as interest rates move, your liabilities are going to go up but your bond portfolio is going to go up by hopefully the same amount._\n",
    "* Not perfect, only works with vertical shifts in the entire yield curve\n",
    "\n",
    "## Duration Matching"
   ]
  },
  {
   "cell_type": "code",
   "execution_count": 29,
   "metadata": {},
   "outputs": [],
   "source": [
    "liabilities = pd.Series(data=[100_000, 100_000], index=[10,12])"
   ]
  },
  {
   "cell_type": "code",
   "execution_count": 32,
   "metadata": {},
   "outputs": [
    {
     "data": {
      "text/plain": [
       "10.960799385088393"
      ]
     },
     "execution_count": 32,
     "metadata": {},
     "output_type": "execute_result"
    }
   ],
   "source": [
    "macaulay_duration(liabilities, 0.04)"
   ]
  },
  {
   "cell_type": "markdown",
   "metadata": {},
   "source": [
    "In an ideal world, would buy a ZC for 10.96 / or indivdual bonds with 10- and 12-year expiries\n",
    "## Scenario\n",
    "Keeping the siutation simple we have two bonds with a face value of 1000 and a 50 dollar annual coupon. We need to find out the ratio of the bonds we need to match the macualay duration of our liabilities"
   ]
  },
  {
   "cell_type": "code",
   "execution_count": 33,
   "metadata": {},
   "outputs": [
    {
     "data": {
      "text/plain": [
       "(8.190898824083233, 13.544718122145921)"
      ]
     },
     "execution_count": 33,
     "metadata": {},
     "output_type": "execute_result"
    }
   ],
   "source": [
    "md_10 = macaulay_duration(bond_cash_flows(10, 1000, 0.05, 1), .04)\n",
    "md_20 = macaulay_duration(bond_cash_flows(20, 1000, 0.05, 1), .04)\n",
    "md_10, md_20"
   ]
  },
  {
   "cell_type": "markdown",
   "metadata": {},
   "source": [
    "$w_s =$  weight in the short duration bond\n",
    "\n",
    "$d_s = $ the duration of duration of the short bond\n",
    "\n",
    "$d_l = $ the duration of duration of the long bond\n",
    "\n",
    "$d_t = $ targeted duration\n",
    "\n",
    "In our case, the fraction in the short duration asset $w_s$ should be such that:\n",
    "\n",
    "$$ w_s \\times 8.19 + (1-w_s) \\times 13.54 = 10.96 $$\n",
    "\n",
    "more generally:\n",
    "\n",
    "$$ w_s \\times d_s + (1-w_s) \\times d_l = d_t $$\n",
    "\n",
    "rearranging gives:\n",
    "\n",
    "$$ w_s = \\frac{d_l -d_t}{d_l - d_s} $$"
   ]
  },
  {
   "cell_type": "code",
   "execution_count": 36,
   "metadata": {},
   "outputs": [],
   "source": [
    "def match_durations(cashflows_target, cashflows_shortbond, cashflows_longbond, discount_rate):\n",
    "    \"\"\"\n",
    "    Find the weight of the short bond so that, together with 1 - short bond weight, there will be an duration\n",
    "    that matches the cashflows of the target\n",
    "    \"\"\"\n",
    "    d_target = macaulay_duration(cashflows_target, discount_rate)\n",
    "    d_short = macaulay_duration(cashflows_shortbond, discount_rate)\n",
    "    d_long = macaulay_duration(cashflows_longbond, discount_rate)\n",
    "    \n",
    "    return (d_long - d_target) / (d_long - d_short)"
   ]
  },
  {
   "cell_type": "code",
   "execution_count": 37,
   "metadata": {},
   "outputs": [
    {
     "data": {
      "text/plain": [
       "0.48263092069478974"
      ]
     },
     "execution_count": 37,
     "metadata": {},
     "output_type": "execute_result"
    }
   ],
   "source": [
    "short_bond = bond_cash_flows(10, 1000, 0.05, 1)\n",
    "long_bond = bond_cash_flows(20, 1000, 0.05, 1)\n",
    "\n",
    "w_short = match_durations(liabilities, short_bond, long_bond, 0.04)\n",
    "w_short"
   ]
  },
  {
   "cell_type": "code",
   "execution_count": 39,
   "metadata": {},
   "outputs": [],
   "source": [
    "p_short = bond_price(10, 1000, .05, 1, .04)\n",
    "p_long = bond_price(20, 1000, .05, 1, .04)\n",
    "a_0 = 130_000\n",
    "p_flows = pd.concat([a_0 * w_short * short_bond/p_short, a_0 * (1-w_short) * long_bond/p_long])"
   ]
  },
  {
   "cell_type": "code",
   "execution_count": 40,
   "metadata": {},
   "outputs": [
    {
     "data": {
      "text/plain": [
       "10.960799385088393"
      ]
     },
     "execution_count": 40,
     "metadata": {},
     "output_type": "execute_result"
    }
   ],
   "source": [
    "macaulay_duration(p_flows, 0.04) #We exactly meet the target"
   ]
  },
  {
   "cell_type": "code",
   "execution_count": 41,
   "metadata": {},
   "outputs": [
    {
     "data": {
      "text/plain": [
       "0.9998760012192478"
      ]
     },
     "execution_count": 41,
     "metadata": {},
     "output_type": "execute_result"
    }
   ],
   "source": [
    "curr_funding_ratio = portfolio.funding_ratio(p_flows, liabilities, 0.04)\n",
    "curr_funding_ratio"
   ]
  },
  {
   "cell_type": "code",
   "execution_count": 50,
   "metadata": {},
   "outputs": [
    {
     "data": {
      "text/plain": [
       "<matplotlib.axes._subplots.AxesSubplot at 0x1207fbe20>"
      ]
     },
     "execution_count": 50,
     "metadata": {},
     "output_type": "execute_result"
    },
    {
     "data": {
      "image/png": "[encoded data removed]",
      "text/plain": [
       "<Figure size 864x432 with 1 Axes>"
      ]
     },
     "metadata": {
      "needs_background": "light"
     },
     "output_type": "display_data"
    }
   ],
   "source": [
    "rates = np.linspace(0, .1, 20)\n",
    "lb_assets = a_0 * long_bond/p_long\n",
    "sb_assets = a_0 * short_bond/p_short\n",
    "\n",
    "funding_ratio_change = pd.DataFrame({\n",
    "    \"Long Bond\": [portfolio.funding_ratio(lb_assets, liabilities, r) for r in rates],\n",
    "    \"Short Bond\": [portfolio.funding_ratio(sb_assets, liabilities, r) for r in rates],\n",
    "    \"Duration-matched Bond\": [portfolio.funding_ratio(p_flows, liabilities, r) for r in rates]\n",
    "}, index=rates)\n",
    "\n",
    "funding_ratio_change.plot(title=\"Change in funding ratios with changes in interest rates\", figsize=(12,6))\n"
   ]
  },
  {
   "cell_type": "code",
   "execution_count": null,
   "metadata": {},
   "outputs": [],
   "source": []
  }
 ],
 "metadata": {
  "kernelspec": {
   "display_name": "Python 3",
   "language": "python",
   "name": "python3"
  },
  "language_info": {
   "codemirror_mode": {
    "name": "ipython",
    "version": 3
   },
   "file_extension": ".py",
   "mimetype": "text/x-python",
   "name": "python",
   "nbconvert_exporter": "python",
   "pygments_lexer": "ipython3",
   "version": "3.8.3"
  }
 },
 "nbformat": 4,
 "nbformat_minor": 4
}
