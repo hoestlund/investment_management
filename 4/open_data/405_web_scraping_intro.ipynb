{
 "cells": [
  {
   "cell_type": "markdown",
   "metadata": {},
   "source": [
    "# Markdown"
   ]
  },
  {
   "cell_type": "code",
   "execution_count": 2,
   "metadata": {},
   "outputs": [],
   "source": [
    "import requests\n",
    "from bs4 import BeautifulSoup"
   ]
  },
  {
   "cell_type": "code",
   "execution_count": 6,
   "metadata": {},
   "outputs": [],
   "source": [
    "r = requests.get('https://en.wikipedia.org/wiki/DAX')\n",
    "soup = BeautifulSoup(r.content, 'html.parser')\n",
    "# print(soup.prettify())"
   ]
  },
  {
   "cell_type": "code",
   "execution_count": 7,
   "metadata": {},
   "outputs": [
    {
     "data": {
      "text/plain": [
       "7"
      ]
     },
     "execution_count": 7,
     "metadata": {},
     "output_type": "execute_result"
    }
   ],
   "source": [
    "tables = soup.find_all('table')\n",
    "len(tables)"
   ]
  },
  {
   "cell_type": "code",
   "execution_count": 13,
   "metadata": {},
   "outputs": [],
   "source": [
    "dax_table = tables[3]\n",
    "\n",
    "# print(dax_table.prettify())"
   ]
  },
  {
   "cell_type": "code",
   "execution_count": 19,
   "metadata": {},
   "outputs": [
    {
     "data": {
      "text/plain": [
       "{'class': ['wikitable', 'sortable'],\n",
       " 'style': 'text-align: center; font-size: 100%;',\n",
       " 'id': 'constituents',\n",
       " 'cellspacing': '2',\n",
       " 'cellpadding': '2'}"
      ]
     },
     "execution_count": 19,
     "metadata": {},
     "output_type": "execute_result"
    }
   ],
   "source": [
    "dax_table.attrs\n"
   ]
  },
  {
   "cell_type": "code",
   "execution_count": 20,
   "metadata": {},
   "outputs": [
    {
     "data": {
      "text/plain": [
       "<p><small><span class=\"citation wikicite\" id=\"endnote_1\"><b><a href=\"#ref_1\">^Note 1</a></b></span> : Weightings as at 27 December 2018 (remained unchanged from the previous quarterly review</small><sup class=\"reference\" id=\"cite_ref-9\"><a href=\"#cite_note-9\">[9]</a></sup><small>). Source: <a class=\"extiw\" href=\"https://de.wikipedia.org/wiki/DAX\" title=\"de:DAX\">de:DAX</a>.</small>\n",
       "</p>"
      ]
     },
     "execution_count": 20,
     "metadata": {},
     "output_type": "execute_result"
    }
   ],
   "source": [
    "sibling = dax_table.find_next_sibling()\n",
    "sibling"
   ]
  },
  {
   "cell_type": "code",
   "execution_count": 44,
   "metadata": {},
   "outputs": [
    {
     "data": {
      "text/plain": [
       "30"
      ]
     },
     "execution_count": 44,
     "metadata": {},
     "output_type": "execute_result"
    }
   ],
   "source": [
    "components = dax_table.find_all(name='tr')\n",
    "# First is just background information\n",
    "components.pop(0)\n",
    "len(components)"
   ]
  },
  {
   "cell_type": "code",
   "execution_count": 45,
   "metadata": {},
   "outputs": [
    {
     "name": "stdout",
     "output_type": "stream",
     "text": [
      "first: \n",
      "<tr>\n",
      "<td><a class=\"image\" href=\"/wiki/File:Adidas-group-logo-fr.svg\"><img alt=\"Adidas-group-logo-fr.svg\" data-file-height=\"472\" data-file-width=\"921\" decoding=\"async\" height=\"41\" src=\"//upload.wikimedia.org/wikipedia/commons/thumb/1/1c/Adidas-group-logo-fr.svg/80px-Adidas-group-logo-fr.svg.png\" srcset=\"//upload.wikimedia.org/wikipedia/commons/thumb/1/1c/Adidas-group-logo-fr.svg/120px-Adidas-group-logo-fr.svg.png 1.5x, //upload.wikimedia.org/wikipedia/commons/thumb/1/1c/Adidas-group-logo-fr.svg/160px-Adidas-group-logo-fr.svg.png 2x\" width=\"80\"/></a></td>\n",
      "<td><a href=\"/wiki/Adidas\" title=\"Adidas\">Adidas</a></td>\n",
      "<td>Consumer Cyclical</td>\n",
      "<td><a class=\"external text\" href=\"http://www.boerse-frankfurt.de/en/equities/search/result?name_isin_wkn=ADS.DE\" rel=\"nofollow\">ADS.DE</a></td>\n",
      "<td>3.54</td>\n",
      "<td>57,016 (2018)</td>\n",
      "<td>1924\n",
      "</td></tr>\n",
      "\n",
      "last: \n",
      "<tr>\n",
      "<td><a class=\"image\" href=\"/wiki/File:Wirecard_Logo.svg\"><img alt=\"Wirecard Logo.svg\" data-file-height=\"248\" data-file-width=\"957\" decoding=\"async\" height=\"21\" src=\"//upload.wikimedia.org/wikipedia/commons/thumb/d/d7/Wirecard_Logo.svg/80px-Wirecard_Logo.svg.png\" srcset=\"//upload.wikimedia.org/wikipedia/commons/thumb/d/d7/Wirecard_Logo.svg/120px-Wirecard_Logo.svg.png 1.5x, //upload.wikimedia.org/wikipedia/commons/thumb/d/d7/Wirecard_Logo.svg/160px-Wirecard_Logo.svg.png 2x\" width=\"80\"/></a></td>\n",
      "<td><a href=\"/wiki/Wirecard\" title=\"Wirecard\">Wirecard</a></td>\n",
      "<td>Technology</td>\n",
      "<td><a class=\"external text\" href=\"http://www.boerse-frankfurt.de/en/equities/search/result?name_isin_wkn=WDI.DE\" rel=\"nofollow\">WDI.DE</a></td>\n",
      "<td>0.85</td>\n",
      "<td>4,989 (2018)</td>\n",
      "<td>1999\n",
      "</td></tr>\n"
     ]
    }
   ],
   "source": [
    "print(\"first: \\n\" + str(components[0]))\n",
    "print(\"\\nlast: \\n\" + str(components[-1]))"
   ]
  },
  {
   "cell_type": "code",
   "execution_count": 56,
   "metadata": {},
   "outputs": [
    {
     "data": {
      "text/plain": [
       "89"
      ]
     },
     "execution_count": 56,
     "metadata": {},
     "output_type": "execute_result"
    }
   ],
   "source": [
    "# The Börse Frankfurt links are broken, so using the wikipedia links\n",
    "links = dax_table.find_all('a')\n",
    "#Get rid the Prime Standard listing in header\n",
    "links.pop(0)\n",
    "#Get rid of link to end note\n",
    "links.pop(0)\n",
    "len(links)"
   ]
  },
  {
   "cell_type": "code",
   "execution_count": 57,
   "metadata": {},
   "outputs": [
    {
     "name": "stdout",
     "output_type": "stream",
     "text": [
      "{'href': '/wiki/File:Adidas-group-logo-fr.svg', 'class': ['image']}\n",
      "/wiki/File:Adidas-group-logo-fr.svg\n"
     ]
    }
   ],
   "source": [
    "example_link = links[0]\n",
    "print(example_link.attrs)\n",
    "print(example_link.attrs['href'])"
   ]
  },
  {
   "cell_type": "code",
   "execution_count": null,
   "metadata": {},
   "outputs": [],
   "source": [
    "# Will be messy to sort out the links. We know that the 2nd column lists the names so we can do\n",
    "td_links = [] # for each component look for 2 child element, or td element with an a tag which has a title attribute\n",
    "\n",
    "\n",
    "# numpy has np.unique which is helpful for finding repeat links, names, etc.\n",
    "# Not applicable to DAX but need to be aware of multiple share classes in index\n",
    "\n",
    "\n",
    "# Then use each link to collect information from the page"
   ]
  }
 ],
 "metadata": {
  "kernelspec": {
   "display_name": "Python 3",
   "language": "python",
   "name": "python3"
  },
  "language_info": {
   "codemirror_mode": {
    "name": "ipython",
    "version": 3
   },
   "file_extension": ".py",
   "mimetype": "text/x-python",
   "name": "python",
   "nbconvert_exporter": "python",
   "pygments_lexer": "ipython3",
   "version": "3.8.3"
  }
 },
 "nbformat": 4,
 "nbformat_minor": 4
}
