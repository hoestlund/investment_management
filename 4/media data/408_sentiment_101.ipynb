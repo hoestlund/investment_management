{
 "cells": [
  {
   "cell_type": "markdown",
   "metadata": {},
   "source": [
    "# Sentiment Analysis\n",
    "\n",
    "* First approach borrow from psychology\n",
    "    * Uses Harvard Psychological Dictionary\n",
    "    * 77 bags of words, with each bag associated with a psychological state\n",
    "        * Negative terms (2,291)\n",
    "        * Strength terms (1,902)\n",
    "        * Passive (911)\n",
    "    * _Simple Sentiment_ = (positive - negative) / sum of positive and negative\n",
    "    * Tetlock 2007 used this apprao\n",
    "        * \"Abrest of the Market\" collmn in the WSJ 1984-1999, look at the sentiment and see the performance the next day\n",
    "            * Positive terms were mixed\n",
    "            * Negative terms were able to predict next day returns significantly\n",
    "            * Problems with classifications of the words (liability in psychology vs in finance)\n",
    "\n",
    "* Second approach adapted the bags of words for the financial domain\n",
    "    * Loughran & McDonald Journal of Finance 2012 \"When a liability is not a liability\"\n",
    "        * Better results, big improvement in the prediction of negative terms\n",
    "        * Positive terms were still not predictive of positive returns\n",
    "    * Jagadesh and Wu Journal of Financial Economics 2013 \"Word power: a new appraoch for content analysis\" improves the sentiment model by weighting different words differently e.g. fraud and disaster are very negative words so are weighted more strongly\n",
    "        * Negative and positive prediction improved\n",
    "        \n",
    "        \n",
    "*LINKS TO PAPERS*\n",
    "\n",
    "“Giving Content to Investor Sentiment: The Role of Media in the Stock Market“\n",
    " https://papers.ssrn.com/sol3/papers.cfm?abstract_id=685145\n",
    " \n",
    "“When Is a Liability Not a Liability? Textual Analysis, Dictionaries, and 10‐Ks“\n",
    "https://papers.ssrn.com/sol3/papers.cfm?abstract_id=1331573\n",
    "\n",
    "“Word Power: A New Approach for Content Analysis“\n",
    "https://papers.ssrn.com/sol3/papers.cfm?abstract_id=1787273"
   ]
  },
  {
   "cell_type": "code",
   "execution_count": null,
   "metadata": {},
   "outputs": [],
   "source": []
  }
 ],
 "metadata": {
  "kernelspec": {
   "display_name": "Python 3",
   "language": "python",
   "name": "python3"
  },
  "language_info": {
   "codemirror_mode": {
    "name": "ipython",
    "version": 3
   },
   "file_extension": ".py",
   "mimetype": "text/x-python",
   "name": "python",
   "nbconvert_exporter": "python",
   "pygments_lexer": "ipython3",
   "version": "3.8.3"
  }
 },
 "nbformat": 4,
 "nbformat_minor": 4
}
