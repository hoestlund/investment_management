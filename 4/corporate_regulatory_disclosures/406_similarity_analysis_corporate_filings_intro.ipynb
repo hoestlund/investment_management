{
 "cells": [
  {
   "cell_type": "markdown",
   "metadata": {},
   "source": [
    "# Applying similarity analysis on corporate filings to predict returns\n",
    "\n",
    "* Firms financial reports typically default to repeating the language used in previous reports(Lauren, Malloy & Nguyne Sept 2018) ~Lazy prices [Link](http://laurenhcohen.com/wp-content/uploads/2017/09/lazyprices.pdf), [Digest](https://www.nber.org/digest/nov18/w25084.shtml)\n",
    "  * Does it mean anything if a firm then changes the language used compared to a previous report?\n",
    "  * Does it make a difference depending on which section was changed?\n",
    "_We need the following to address these questions: i.) collect historical information ii.) apply textual analysis_\n",
    "\n",
    "For the analysis the Euclidian distance can be used but another common meaure is *cosine similarity*"
   ]
  },
  {
   "cell_type": "markdown",
   "metadata": {},
   "source": [
    "* Financial filings with the SEC\n",
    "    * 10-Q: Quarterly earnings report\n",
    "    * 10-K: More comprehensive annual report\n",
    "    * 13-D, 13-G: Aquistion of more than 5% of a public company\n",
    "    * Forms 3, 4, and 5: Insider trading transcations\n",
    "    \n",
    "    \n",
    "* Other agencies such as the FDA, FAA, VIN may be a good source of data\n",
    "    * FDA with drug trails\n",
    "    * FAA -> All corporate jets are registered and flights need to be recorded (could find meetings betwenn companies)\n",
    "    * VIN registration is necessary from the DMV for each car produced ($TSLA production)\n",
    "    \n",
    "    \n",
    "* Funds above a certain size need to disclose their holdings on a quarterly basis"
   ]
  },
  {
   "cell_type": "code",
   "execution_count": null,
   "metadata": {},
   "outputs": [],
   "source": [
    "# Notes from course: Stemmer func needs to be applied to each invidual word\n"
   ]
  }
 ],
 "metadata": {
  "kernelspec": {
   "display_name": "Python 3",
   "language": "python",
   "name": "python3"
  },
  "language_info": {
   "codemirror_mode": {
    "name": "ipython",
    "version": 3
   },
   "file_extension": ".py",
   "mimetype": "text/x-python",
   "name": "python",
   "nbconvert_exporter": "python",
   "pygments_lexer": "ipython3",
   "version": "3.8.3"
  }
 },
 "nbformat": 4,
 "nbformat_minor": 4
}
